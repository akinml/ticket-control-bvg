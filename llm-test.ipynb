{
 "cells": [
  {
   "cell_type": "code",
   "execution_count": 3,
   "metadata": {},
   "outputs": [
    {
     "name": "stdout",
     "output_type": "stream",
     "text": [
      "Found model file at  /home/chris/.cache/gpt4all/nous-hermes-13b.ggmlv3.q4_0.bin\n"
     ]
    },
    {
     "name": "stderr",
     "output_type": "stream",
     "text": [
      "llama.cpp: loading model from /home/chris/.cache/gpt4all/nous-hermes-13b.ggmlv3.q4_0.bin\n",
      "llama_model_load_internal: format     = ggjt v3 (latest)\n",
      "llama_model_load_internal: n_vocab    = 32001\n",
      "llama_model_load_internal: n_ctx      = 2048\n",
      "llama_model_load_internal: n_embd     = 5120\n",
      "llama_model_load_internal: n_mult     = 256\n",
      "llama_model_load_internal: n_head     = 40\n",
      "llama_model_load_internal: n_layer    = 40\n",
      "llama_model_load_internal: n_rot      = 128\n",
      "llama_model_load_internal: ftype      = 2 (mostly Q4_0)\n",
      "llama_model_load_internal: n_ff       = 13824\n",
      "llama_model_load_internal: n_parts    = 1\n",
      "llama_model_load_internal: model size = 13B\n",
      "llama_model_load_internal: ggml ctx size =    0.09 MB\n",
      "llama_model_load_internal: mem required  = 9031.71 MB (+ 1608.00 MB per state)\n",
      "llama_new_context_with_model: kv self size  = 1600.00 MB\n"
     ]
    }
   ],
   "source": [
    "from gpt4all import GPT4All\n",
    "model = GPT4All(\"nous-hermes-13b.ggmlv3.q4_0.bin\")"
   ]
  },
  {
   "cell_type": "code",
   "execution_count": 4,
   "metadata": {},
   "outputs": [
    {
     "name": "stdout",
     "output_type": "stream",
     "text": [
      ", France\n",
      "1. Eiffel Tower: The iconic symbol of love and the most visited monument in the world, this tower offers a panoramic view of the city from its top.\n",
      "2. Louvre Museum: Home to thousands of artworks including Mona Lisa by Leonardo da Vinci, it is one of the largest museums in the world.\n",
      "3. Notre-Dame Cathedral: A masterpiece of Gothic architecture with stunning sculptures and intricate carvings, this cathedral is a must visit for history lovers.\n",
      "4. Champs Elysees: The most famous street in Paris, it offers shopping, dining, and entertainment options along its stretch.\n",
      "5. Montmartre: A historic neighborhood with narrow streets, charming cafes, and stunning views of the city from its hilltop, this place is a must visit for art lovers.\n"
     ]
    }
   ],
   "source": [
    "output = model.generate(\"Tell me somethin about Paris\", max_tokens=128)\n",
    "print(output)"
   ]
  },
  {
   "cell_type": "code",
   "execution_count": 9,
   "metadata": {},
   "outputs": [
    {
     "data": {
      "text/html": [
       "<div>\n",
       "<style scoped>\n",
       "    .dataframe tbody tr th:only-of-type {\n",
       "        vertical-align: middle;\n",
       "    }\n",
       "\n",
       "    .dataframe tbody tr th {\n",
       "        vertical-align: top;\n",
       "    }\n",
       "\n",
       "    .dataframe thead th {\n",
       "        text-align: right;\n",
       "    }\n",
       "</style>\n",
       "<table border=\"1\" class=\"dataframe\">\n",
       "  <thead>\n",
       "    <tr style=\"text-align: right;\">\n",
       "      <th></th>\n",
       "      <th>group</th>\n",
       "      <th>sender</th>\n",
       "      <th>text</th>\n",
       "      <th>date</th>\n",
       "    </tr>\n",
       "  </thead>\n",
       "  <tbody>\n",
       "    <tr>\n",
       "      <th>0</th>\n",
       "      <td>freifahren_BE</td>\n",
       "      <td>NaN</td>\n",
       "      <td>NaN</td>\n",
       "      <td>2018-02-15 11:01:00</td>\n",
       "    </tr>\n",
       "    <tr>\n",
       "      <th>1</th>\n",
       "      <td>freifahren_BE</td>\n",
       "      <td>2.832847e+08</td>\n",
       "      <td>Hä</td>\n",
       "      <td>2018-02-15 11:14:10</td>\n",
       "    </tr>\n",
       "    <tr>\n",
       "      <th>2</th>\n",
       "      <td>freifahren_BE</td>\n",
       "      <td>4.628105e+08</td>\n",
       "      <td>NaN</td>\n",
       "      <td>2018-02-15 11:17:08</td>\n",
       "    </tr>\n",
       "    <tr>\n",
       "      <th>3</th>\n",
       "      <td>freifahren_BE</td>\n",
       "      <td>4.628105e+08</td>\n",
       "      <td>NaN</td>\n",
       "      <td>2018-02-15 11:18:17</td>\n",
       "    </tr>\n",
       "    <tr>\n",
       "      <th>4</th>\n",
       "      <td>freifahren_BE</td>\n",
       "      <td>4.628105e+08</td>\n",
       "      <td>NaN</td>\n",
       "      <td>2018-02-15 11:21:17</td>\n",
       "    </tr>\n",
       "    <tr>\n",
       "      <th>...</th>\n",
       "      <td>...</td>\n",
       "      <td>...</td>\n",
       "      <td>...</td>\n",
       "      <td>...</td>\n",
       "    </tr>\n",
       "    <tr>\n",
       "      <th>251275</th>\n",
       "      <td>freifahren_BE</td>\n",
       "      <td>5.309167e+08</td>\n",
       "      <td>U5 Friedrichsfelde 2x blau Westen männlich gel...</td>\n",
       "      <td>2023-08-18 12:10:31</td>\n",
       "    </tr>\n",
       "    <tr>\n",
       "      <th>251276</th>\n",
       "      <td>freifahren_BE</td>\n",
       "      <td>5.198245e+08</td>\n",
       "      <td>U6 mehringdamm station.</td>\n",
       "      <td>2023-08-18 12:36:47</td>\n",
       "    </tr>\n",
       "    <tr>\n",
       "      <th>251277</th>\n",
       "      <td>freifahren_BE</td>\n",
       "      <td>5.608908e+08</td>\n",
       "      <td>Gehört eigentlich mindestens bos gemeldet...\\n...</td>\n",
       "      <td>2023-08-18 12:41:15</td>\n",
       "    </tr>\n",
       "    <tr>\n",
       "      <th>251278</th>\n",
       "      <td>freifahren_BE</td>\n",
       "      <td>7.268913e+08</td>\n",
       "      <td>**3 boss **S Rathaus Spandau</td>\n",
       "      <td>2023-08-18 12:46:51</td>\n",
       "    </tr>\n",
       "    <tr>\n",
       "      <th>251279</th>\n",
       "      <td>freifahren_BE</td>\n",
       "      <td>5.535547e+09</td>\n",
       "      <td>U7 Rudow, steigen gerade bei mehringdamm ein</td>\n",
       "      <td>2023-08-18 12:56:43</td>\n",
       "    </tr>\n",
       "  </tbody>\n",
       "</table>\n",
       "<p>251280 rows × 4 columns</p>\n",
       "</div>"
      ],
      "text/plain": [
       "                group        sender  \\\n",
       "0       freifahren_BE           NaN   \n",
       "1       freifahren_BE  2.832847e+08   \n",
       "2       freifahren_BE  4.628105e+08   \n",
       "3       freifahren_BE  4.628105e+08   \n",
       "4       freifahren_BE  4.628105e+08   \n",
       "...               ...           ...   \n",
       "251275  freifahren_BE  5.309167e+08   \n",
       "251276  freifahren_BE  5.198245e+08   \n",
       "251277  freifahren_BE  5.608908e+08   \n",
       "251278  freifahren_BE  7.268913e+08   \n",
       "251279  freifahren_BE  5.535547e+09   \n",
       "\n",
       "                                                     text                 date  \n",
       "0                                                     NaN  2018-02-15 11:01:00  \n",
       "1                                                      Hä  2018-02-15 11:14:10  \n",
       "2                                                     NaN  2018-02-15 11:17:08  \n",
       "3                                                     NaN  2018-02-15 11:18:17  \n",
       "4                                                     NaN  2018-02-15 11:21:17  \n",
       "...                                                   ...                  ...  \n",
       "251275  U5 Friedrichsfelde 2x blau Westen männlich gel...  2023-08-18 12:10:31  \n",
       "251276                            U6 mehringdamm station.  2023-08-18 12:36:47  \n",
       "251277  Gehört eigentlich mindestens bos gemeldet...\\n...  2023-08-18 12:41:15  \n",
       "251278                       **3 boss **S Rathaus Spandau  2023-08-18 12:46:51  \n",
       "251279       U7 Rudow, steigen gerade bei mehringdamm ein  2023-08-18 12:56:43  \n",
       "\n",
       "[251280 rows x 4 columns]"
      ]
     },
     "execution_count": 9,
     "metadata": {},
     "output_type": "execute_result"
    }
   ],
   "source": [
    "import pandas as pd\n",
    "\n",
    "df = pd.read_csv(r'/home/chris/OneDrive_christoph.bieritz/code/ticket-control-bvg/data/telegram_data.csv')\n"
   ]
  },
  {
   "cell_type": "code",
   "execution_count": 12,
   "metadata": {},
   "outputs": [],
   "source": [
    "test_dict = {}\n",
    "counter = 0\n",
    "\n",
    "for x in df['text']:\n",
    "    counter += 1\n",
    "    test_dict[counter] = x"
   ]
  },
  {
   "cell_type": "code",
   "execution_count": 5,
   "metadata": {},
   "outputs": [],
   "source": [
    "from langchain.chains import create_extraction_chain\n",
    "\n",
    "schema = {\n",
    "    \"properties\": {\n",
    "        \"Station\": {\"type\": \"string\"},\n",
    "        \"Richtung\": {\"type\": \"string\"},\n",
    "    },\n",
    "    \"required\": [\"Station\", \"Richtung\"],\n",
    "}\n",
    "\n",
    "def extract(content: str, schema: dict):\n",
    "    return create_extraction_chain(schema=schema, llm=model).run(content)"
   ]
  },
  {
   "cell_type": "code",
   "execution_count": 13,
   "metadata": {},
   "outputs": [
    {
     "ename": "ValidationError",
     "evalue": "1 validation error for LLMChain\nllm\n  value is not a valid dict (type=type_error.dict)",
     "output_type": "error",
     "traceback": [
      "\u001b[0;31m---------------------------------------------------------------------------\u001b[0m",
      "\u001b[0;31mValidationError\u001b[0m                           Traceback (most recent call last)",
      "Cell \u001b[0;32mIn[13], line 1\u001b[0m\n\u001b[0;32m----> 1\u001b[0m extract(test_dict,schema\u001b[39m=\u001b[39;49mschema)\n",
      "Cell \u001b[0;32mIn[5], line 12\u001b[0m, in \u001b[0;36mextract\u001b[0;34m(content, schema)\u001b[0m\n\u001b[1;32m     11\u001b[0m \u001b[39mdef\u001b[39;00m \u001b[39mextract\u001b[39m(content: \u001b[39mstr\u001b[39m, schema: \u001b[39mdict\u001b[39m):\n\u001b[0;32m---> 12\u001b[0m     \u001b[39mreturn\u001b[39;00m create_extraction_chain(schema\u001b[39m=\u001b[39;49mschema, llm\u001b[39m=\u001b[39;49mmodel)\u001b[39m.\u001b[39mrun(content)\n",
      "File \u001b[0;32m~/.pyenv/versions/3.10.6/envs/bvg-controller/lib/python3.10/site-packages/langchain/chains/openai_functions/extraction.py:63\u001b[0m, in \u001b[0;36mcreate_extraction_chain\u001b[0;34m(schema, llm, verbose)\u001b[0m\n\u001b[1;32m     61\u001b[0m output_parser \u001b[39m=\u001b[39m JsonKeyOutputFunctionsParser(key_name\u001b[39m=\u001b[39m\u001b[39m\"\u001b[39m\u001b[39minfo\u001b[39m\u001b[39m\"\u001b[39m)\n\u001b[1;32m     62\u001b[0m llm_kwargs \u001b[39m=\u001b[39m get_llm_kwargs(function)\n\u001b[0;32m---> 63\u001b[0m chain \u001b[39m=\u001b[39m LLMChain(\n\u001b[1;32m     64\u001b[0m     llm\u001b[39m=\u001b[39;49mllm,\n\u001b[1;32m     65\u001b[0m     prompt\u001b[39m=\u001b[39;49mprompt,\n\u001b[1;32m     66\u001b[0m     llm_kwargs\u001b[39m=\u001b[39;49mllm_kwargs,\n\u001b[1;32m     67\u001b[0m     output_parser\u001b[39m=\u001b[39;49moutput_parser,\n\u001b[1;32m     68\u001b[0m     verbose\u001b[39m=\u001b[39;49mverbose,\n\u001b[1;32m     69\u001b[0m )\n\u001b[1;32m     70\u001b[0m \u001b[39mreturn\u001b[39;00m chain\n",
      "File \u001b[0;32m~/.pyenv/versions/3.10.6/envs/bvg-controller/lib/python3.10/site-packages/langchain/load/serializable.py:74\u001b[0m, in \u001b[0;36mSerializable.__init__\u001b[0;34m(self, **kwargs)\u001b[0m\n\u001b[1;32m     73\u001b[0m \u001b[39mdef\u001b[39;00m \u001b[39m__init__\u001b[39m(\u001b[39mself\u001b[39m, \u001b[39m*\u001b[39m\u001b[39m*\u001b[39mkwargs: Any) \u001b[39m-\u001b[39m\u001b[39m>\u001b[39m \u001b[39mNone\u001b[39;00m:\n\u001b[0;32m---> 74\u001b[0m     \u001b[39msuper\u001b[39;49m()\u001b[39m.\u001b[39;49m\u001b[39m__init__\u001b[39;49m(\u001b[39m*\u001b[39;49m\u001b[39m*\u001b[39;49mkwargs)\n\u001b[1;32m     75\u001b[0m     \u001b[39mself\u001b[39m\u001b[39m.\u001b[39m_lc_kwargs \u001b[39m=\u001b[39m kwargs\n",
      "File \u001b[0;32m~/.pyenv/versions/3.10.6/envs/bvg-controller/lib/python3.10/site-packages/pydantic/v1/main.py:341\u001b[0m, in \u001b[0;36mBaseModel.__init__\u001b[0;34m(__pydantic_self__, **data)\u001b[0m\n\u001b[1;32m    339\u001b[0m values, fields_set, validation_error \u001b[39m=\u001b[39m validate_model(__pydantic_self__\u001b[39m.\u001b[39m\u001b[39m__class__\u001b[39m, data)\n\u001b[1;32m    340\u001b[0m \u001b[39mif\u001b[39;00m validation_error:\n\u001b[0;32m--> 341\u001b[0m     \u001b[39mraise\u001b[39;00m validation_error\n\u001b[1;32m    342\u001b[0m \u001b[39mtry\u001b[39;00m:\n\u001b[1;32m    343\u001b[0m     object_setattr(__pydantic_self__, \u001b[39m'\u001b[39m\u001b[39m__dict__\u001b[39m\u001b[39m'\u001b[39m, values)\n",
      "\u001b[0;31mValidationError\u001b[0m: 1 validation error for LLMChain\nllm\n  value is not a valid dict (type=type_error.dict)"
     ]
    }
   ],
   "source": [
    "extract(test_dict,schema=schema)"
   ]
  },
  {
   "cell_type": "code",
   "execution_count": null,
   "metadata": {},
   "outputs": [],
   "source": [
    "output = model.generate(\"Tell me somethin about Paris\", max_tokens=128)\n",
    "print(output)"
   ]
  }
 ],
 "metadata": {
  "kernelspec": {
   "display_name": "lewagon",
   "language": "python",
   "name": "python3"
  },
  "language_info": {
   "codemirror_mode": {
    "name": "ipython",
    "version": 3
   },
   "file_extension": ".py",
   "mimetype": "text/x-python",
   "name": "python",
   "nbconvert_exporter": "python",
   "pygments_lexer": "ipython3",
   "version": "3.10.6"
  },
  "orig_nbformat": 4
 },
 "nbformat": 4,
 "nbformat_minor": 2
}
