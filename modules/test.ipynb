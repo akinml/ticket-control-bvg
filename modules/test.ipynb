{
 "cells": [
  {
   "cell_type": "markdown",
   "metadata": {},
   "source": []
  },
  {
   "cell_type": "code",
   "execution_count": 14,
   "metadata": {},
   "outputs": [],
   "source": [
    "import pandas as pd"
   ]
  },
  {
   "cell_type": "code",
   "execution_count": 15,
   "metadata": {},
   "outputs": [],
   "source": [
    "from data_cleaning import data_preprocessing"
   ]
  },
  {
   "cell_type": "code",
   "execution_count": 16,
   "metadata": {},
   "outputs": [
    {
     "name": "stdout",
     "output_type": "stream",
     "text": [
      "{'manche', 'für', 'sonst', 'anderer', 'welches', 'da', 'dies', 'bist', 'durch', 'ihres', 'wo', 'ihre', 'musste', 'seines', 'einig', 'allen', 'alles', 'meinem', 'deinem', 'deines', 'ihrer', 'jenem', 'einigen', 'viel', 'um', 'ohne', 'jener', 'noch', 'einiges', 'welche', 'dieselbe', 'meinen', 'habe', 'einmal', 'anderen', 'einige', 'wird', 'dein', 'keines', 'könnte', 'der', 'jedem', 'daß', 'wollte', 'seinem', 'werden', 'auch', 'des', 'eurem', 'jeden', 'eine', 'diesem', 'jetzt', 'einigem', 'nicht', 'meine', 'wenn', 'über', 'zum', 'mir', 'seine', 'zwar', 'unter', 'sondern', 'werde', 'bis', 'anderr', 'hier', 'selbst', 'zwischen', 'alle', 'aller', 'in', 'kein', 'deinen', 'würden', 'seinen', 'anderm', 'aber', 'damit', 'jenes', 'ist', 'demselben', 'weil', 'eines', 'keine', 'manches', 'es', 'welchem', 'derer', 'die', 'anderem', 'hin', 'einen', 'während', 'meines', 'was', 'jedes', 'ihnen', 'uns', 'hab', 'solche', 'am', 'keinen', 'jene', 'jede', 'dasselbe', 'bin', 'unsere', 'wieder', 'zu', 'einem', 'dessen', 'sind', 'einiger', 'ihn', 'im', 'ihm', 'meiner', 'soll', 'wie', 'wirst', 'indem', 'welchen', 'denselben', 'hinter', 'machen', 'manchem', 'unseres', 'und', 'ein', 'ander', 'andern', 'deine', 'doch', 'ihr', 'ihrem', 'von', 'würde', 'nun', 'jenen', 'eurer', 'können', 'oder', 'dieses', 'bei', 'solchen', 'aus', 'zur', 'jeder', 'andere', 'mit', 'auf', 'das', 'den', 'diesen', 'dass', 'unseren', 'waren', 'anders', 'deiner', 'an', 'nach', 'du', 'allem', 'sollte', 'weg', 'als', 'welcher', 'dann', 'wollen', 'dir', 'er', 'unser', 'dich', 'desselben', 'hatten', 'wir', 'keiner', 'keinem', 'solcher', 'haben', 'so', 'kann', 'nur', 'man', 'war', 'will', 'etwas', 'mich', 'manchen', 'muss', 'sehr', 'mancher', 'vom', 'dieselben', 'derselbe', 'einer', 'ob', 'hatte', 'solchem', 'nichts', 'mein', 'hat', 'euer', 'weiter', 'ich', 'seiner', 'dort', 'euch', 'eure', 'ins', 'euren', 'denn', 'derselben', 'ihren', 'solches', 'unserem', 'dazu', 'diese', 'sich', 'sein', 'sie', 'eures', 'gegen', 'vor', 'also', 'dem', 'gewesen', 'dieser', 'warst', 'anderes'}\n"
     ]
    },
    {
     "data": {
      "text/html": [
       "<div>\n",
       "<style scoped>\n",
       "    .dataframe tbody tr th:only-of-type {\n",
       "        vertical-align: middle;\n",
       "    }\n",
       "\n",
       "    .dataframe tbody tr th {\n",
       "        vertical-align: top;\n",
       "    }\n",
       "\n",
       "    .dataframe thead th {\n",
       "        text-align: right;\n",
       "    }\n",
       "</style>\n",
       "<table border=\"1\" class=\"dataframe\">\n",
       "  <thead>\n",
       "    <tr style=\"text-align: right;\">\n",
       "      <th></th>\n",
       "      <th>sender</th>\n",
       "      <th>text</th>\n",
       "      <th>date</th>\n",
       "    </tr>\n",
       "  </thead>\n",
       "  <tbody>\n",
       "    <tr>\n",
       "      <th>56130</th>\n",
       "      <td>283284722.0</td>\n",
       "      <td>hä</td>\n",
       "      <td>2018-02-15 11:14:10</td>\n",
       "    </tr>\n",
       "    <tr>\n",
       "      <th>45427</th>\n",
       "      <td>21995695.0</td>\n",
       "      <td>yes ähnliches schon</td>\n",
       "      <td>2018-02-15 11:26:54</td>\n",
       "    </tr>\n",
       "    <tr>\n",
       "      <th>84475</th>\n",
       "      <td>462810467.0</td>\n",
       "      <td>kanns losgehen</td>\n",
       "      <td>2018-02-15 11:29:46</td>\n",
       "    </tr>\n",
       "    <tr>\n",
       "      <th>51061</th>\n",
       "      <td>259910222.0</td>\n",
       "      <td>fahr eigentlich immer schwarz schwerbehinderte...</td>\n",
       "      <td>2018-02-15 11:31:44</td>\n",
       "    </tr>\n",
       "    <tr>\n",
       "      <th>87661</th>\n",
       "      <td>489941084.0</td>\n",
       "      <td>danke fur einladung</td>\n",
       "      <td>2018-02-15 11:54:57</td>\n",
       "    </tr>\n",
       "    <tr>\n",
       "      <th>...</th>\n",
       "      <td>...</td>\n",
       "      <td>...</td>\n",
       "      <td>...</td>\n",
       "    </tr>\n",
       "    <tr>\n",
       "      <th>94686</th>\n",
       "      <td>530916658.0</td>\n",
       "      <td>u5 friedrichsfelde 2x blau</td>\n",
       "      <td>2023-08-18 12:10:31</td>\n",
       "    </tr>\n",
       "    <tr>\n",
       "      <th>92694</th>\n",
       "      <td>519824542.0</td>\n",
       "      <td>u6 mehringdamm station</td>\n",
       "      <td>2023-08-18 12:36:47</td>\n",
       "    </tr>\n",
       "    <tr>\n",
       "      <th>99346</th>\n",
       "      <td>560890769.0</td>\n",
       "      <td>gehört eigentlich mindestens bos gemeldet  ano...</td>\n",
       "      <td>2023-08-18 12:41:15</td>\n",
       "    </tr>\n",
       "    <tr>\n",
       "      <th>120613</th>\n",
       "      <td>726891309.0</td>\n",
       "      <td>3 boss   s rathaus spandau</td>\n",
       "      <td>2023-08-18 12:46:51</td>\n",
       "    </tr>\n",
       "    <tr>\n",
       "      <th>98271</th>\n",
       "      <td>5535547009.0</td>\n",
       "      <td>u7 rudow  steigen gerade bei mehringdamm</td>\n",
       "      <td>2023-08-18 12:56:43</td>\n",
       "    </tr>\n",
       "  </tbody>\n",
       "</table>\n",
       "<p>138650 rows × 3 columns</p>\n",
       "</div>"
      ],
      "text/plain": [
       "              sender                                               text  \\\n",
       "56130    283284722.0                                                 hä   \n",
       "45427     21995695.0                                yes ähnliches schon   \n",
       "84475    462810467.0                                     kanns losgehen   \n",
       "51061    259910222.0  fahr eigentlich immer schwarz schwerbehinderte...   \n",
       "87661    489941084.0                                danke fur einladung   \n",
       "...              ...                                                ...   \n",
       "94686    530916658.0                         u5 friedrichsfelde 2x blau   \n",
       "92694    519824542.0                             u6 mehringdamm station   \n",
       "99346    560890769.0  gehört eigentlich mindestens bos gemeldet  ano...   \n",
       "120613   726891309.0                         3 boss   s rathaus spandau   \n",
       "98271   5535547009.0           u7 rudow  steigen gerade bei mehringdamm   \n",
       "\n",
       "                      date  \n",
       "56130  2018-02-15 11:14:10  \n",
       "45427  2018-02-15 11:26:54  \n",
       "84475  2018-02-15 11:29:46  \n",
       "51061  2018-02-15 11:31:44  \n",
       "87661  2018-02-15 11:54:57  \n",
       "...                    ...  \n",
       "94686  2023-08-18 12:10:31  \n",
       "92694  2023-08-18 12:36:47  \n",
       "99346  2023-08-18 12:41:15  \n",
       "120613 2023-08-18 12:46:51  \n",
       "98271  2023-08-18 12:56:43  \n",
       "\n",
       "[138650 rows x 3 columns]"
      ]
     },
     "execution_count": 16,
     "metadata": {},
     "output_type": "execute_result"
    }
   ],
   "source": [
    "df=data_preprocessing()\n",
    "df"
   ]
  },
  {
   "cell_type": "code",
   "execution_count": null,
   "metadata": {},
   "outputs": [],
   "source": []
  }
 ],
 "metadata": {
  "kernelspec": {
   "display_name": "bvg-project-env",
   "language": "python",
   "name": "python3"
  },
  "language_info": {
   "codemirror_mode": {
    "name": "ipython",
    "version": 3
   },
   "file_extension": ".py",
   "mimetype": "text/x-python",
   "name": "python",
   "nbconvert_exporter": "python",
   "pygments_lexer": "ipython3",
   "version": "3.10.6"
  },
  "orig_nbformat": 4
 },
 "nbformat": 4,
 "nbformat_minor": 2
}
