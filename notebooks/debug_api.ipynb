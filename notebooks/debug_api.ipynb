{
 "cells": [
  {
   "cell_type": "code",
   "execution_count": 1,
   "metadata": {},
   "outputs": [],
   "source": [
    "import seaborn as sns\n",
    "import datetime\n",
    "import pickle\n",
    "import pandas as pd"
   ]
  },
  {
   "cell_type": "code",
   "execution_count": 2,
   "metadata": {},
   "outputs": [],
   "source": [
    "station = 'Alexanderplatz'"
   ]
  },
  {
   "cell_type": "code",
   "execution_count": 3,
   "metadata": {},
   "outputs": [],
   "source": [
    "from ticket_control.model_preprocessing import *"
   ]
  },
  {
   "cell_type": "code",
   "execution_count": 4,
   "metadata": {},
   "outputs": [],
   "source": [
    "from ticket_control.utils import bezirke"
   ]
  },
  {
   "cell_type": "code",
   "execution_count": 5,
   "metadata": {},
   "outputs": [
    {
     "data": {
      "text/plain": [
       "array([['Mitte', 52.521388888888886, 13.412638888888887]], dtype=object)"
      ]
     },
     "execution_count": 5,
     "metadata": {},
     "output_type": "execute_result"
    }
   ],
   "source": [
    "get_station_latlon(station)"
   ]
  },
  {
   "cell_type": "code",
   "execution_count": 12,
   "metadata": {},
   "outputs": [
    {
     "name": "stdout",
     "output_type": "stream",
     "text": [
      "                              station name   area   latitude  longitude  year  \\\n",
      "date                                                                            \n",
      "2023-09-05 15:57:57.522576  Alexanderplatz  Mitte  52.521389  13.412639  2023   \n",
      "\n",
      "                            month  weekday  hour  hour_sin  hour_cos  \\\n",
      "date                                                                   \n",
      "2023-09-05 15:57:57.522576      9        1    15 -0.707107 -0.707107   \n",
      "\n",
      "                            weekday_sin  weekday_cos  month_sin     month_cos  \n",
      "date                                                                           \n",
      "2023-09-05 15:57:57.522576     0.781831      0.62349       -1.0 -1.836970e-16  \n"
     ]
    },
    {
     "name": "stderr",
     "output_type": "stream",
     "text": [
      "/Users/annushkak/.pyenv/versions/3.10.6/envs/bvg-project/lib/python3.10/site-packages/sklearn/preprocessing/_encoders.py:868: FutureWarning: `sparse` was renamed to `sparse_output` in version 1.2 and will be removed in 1.4. `sparse_output` is ignored unless you leave `sparse` to its default value.\n",
      "  warnings.warn(\n"
     ]
    }
   ],
   "source": [
    "X_pred = pd.DataFrame({\n",
    "    'date': [datetime.datetime.now()],\n",
    "    'station name': [station]\n",
    "})\n",
    "X_pred = X_pred.set_index('date')\n",
    "X_pred[['area', 'latitude', 'longitude']] = get_station_latlon(station)\n",
    "X_pred = get_time(X_pred)\n",
    "X_pred = cyclic_features(X_pred)\n",
    "print(X_pred)\n",
    "X_pred = add_holiday(X_pred)\n",
    "X_pred = covid(X_pred)\n",
    "X_pred = get_bezirke(X_pred)\n",
    "# OneHotEncoding Bezirke\n",
    "encoder=OneHotEncoder(sparse = False, categories=[list(bezirke.keys())])\n",
    "X_pred[encoder.get_feature_names_out()] = encoder.fit_transform(X_pred[[\"bezirk\"]])\n",
    "X_pred[[\"local_0\", \"local_1\", \"local_2\"]] = 5\n",
    "# drpping columns\n",
    "X_pred = X_pred.drop(columns = ['station name', 'area', 'bezirk', 'month', 'weekday', 'hour'])\n"
   ]
  },
  {
   "cell_type": "code",
   "execution_count": 13,
   "metadata": {},
   "outputs": [
    {
     "data": {
      "text/plain": [
       "Index(['latitude', 'longitude', 'year', 'hour_sin', 'hour_cos', 'weekday_sin',\n",
       "       'weekday_cos', 'month_sin', 'month_cos', 'holiday', 'covid',\n",
       "       'bezirk_Charlottenburg-Wilmersdorf', 'bezirk_Friedrichshain-Kreuzberg',\n",
       "       'bezirk_Lichtenberg', 'bezirk_Marzahn-Hellersdorf', 'bezirk_Mitte',\n",
       "       'bezirk_Neukölln', 'bezirk_Pankow', 'bezirk_Reinickendorf',\n",
       "       'bezirk_Spandau', 'bezirk_Steglitz-Zehlendorf',\n",
       "       'bezirk_Tempelhof-Schöneberg', 'bezirk_Treptow-Köpenick',\n",
       "       'bezirk_Brandenburg', 'local_0', 'local_1', 'local_2'],\n",
       "      dtype='object')"
      ]
     },
     "execution_count": 13,
     "metadata": {},
     "output_type": "execute_result"
    }
   ],
   "source": [
    "X_pred.columns"
   ]
  },
  {
   "cell_type": "code",
   "execution_count": 17,
   "metadata": {},
   "outputs": [
    {
     "data": {
      "text/html": [
       "<div>\n",
       "<style scoped>\n",
       "    .dataframe tbody tr th:only-of-type {\n",
       "        vertical-align: middle;\n",
       "    }\n",
       "\n",
       "    .dataframe tbody tr th {\n",
       "        vertical-align: top;\n",
       "    }\n",
       "\n",
       "    .dataframe thead th {\n",
       "        text-align: right;\n",
       "    }\n",
       "</style>\n",
       "<table border=\"1\" class=\"dataframe\">\n",
       "  <thead>\n",
       "    <tr style=\"text-align: right;\">\n",
       "      <th></th>\n",
       "      <th>latitude</th>\n",
       "      <th>longitude</th>\n",
       "      <th>year</th>\n",
       "      <th>hour_sin</th>\n",
       "      <th>hour_cos</th>\n",
       "      <th>weekday_sin</th>\n",
       "      <th>weekday_cos</th>\n",
       "      <th>month_sin</th>\n",
       "      <th>month_cos</th>\n",
       "      <th>holiday</th>\n",
       "      <th>...</th>\n",
       "      <th>bezirk_Pankow</th>\n",
       "      <th>bezirk_Reinickendorf</th>\n",
       "      <th>bezirk_Spandau</th>\n",
       "      <th>bezirk_Steglitz-Zehlendorf</th>\n",
       "      <th>bezirk_Tempelhof-Schöneberg</th>\n",
       "      <th>bezirk_Treptow-Köpenick</th>\n",
       "      <th>bezirk_Brandenburg</th>\n",
       "      <th>local_0</th>\n",
       "      <th>local_1</th>\n",
       "      <th>local_2</th>\n",
       "    </tr>\n",
       "    <tr>\n",
       "      <th>date</th>\n",
       "      <th></th>\n",
       "      <th></th>\n",
       "      <th></th>\n",
       "      <th></th>\n",
       "      <th></th>\n",
       "      <th></th>\n",
       "      <th></th>\n",
       "      <th></th>\n",
       "      <th></th>\n",
       "      <th></th>\n",
       "      <th></th>\n",
       "      <th></th>\n",
       "      <th></th>\n",
       "      <th></th>\n",
       "      <th></th>\n",
       "      <th></th>\n",
       "      <th></th>\n",
       "      <th></th>\n",
       "      <th></th>\n",
       "      <th></th>\n",
       "      <th></th>\n",
       "    </tr>\n",
       "  </thead>\n",
       "  <tbody>\n",
       "    <tr>\n",
       "      <th>2023-09-05 15:57:57.522576</th>\n",
       "      <td>52.521389</td>\n",
       "      <td>13.412639</td>\n",
       "      <td>2023</td>\n",
       "      <td>-0.707107</td>\n",
       "      <td>-0.707107</td>\n",
       "      <td>0.781831</td>\n",
       "      <td>0.62349</td>\n",
       "      <td>-1.0</td>\n",
       "      <td>-1.836970e-16</td>\n",
       "      <td>0</td>\n",
       "      <td>...</td>\n",
       "      <td>0.0</td>\n",
       "      <td>0.0</td>\n",
       "      <td>0.0</td>\n",
       "      <td>0.0</td>\n",
       "      <td>0.0</td>\n",
       "      <td>0.0</td>\n",
       "      <td>0.0</td>\n",
       "      <td>5</td>\n",
       "      <td>5</td>\n",
       "      <td>5</td>\n",
       "    </tr>\n",
       "  </tbody>\n",
       "</table>\n",
       "<p>1 rows × 27 columns</p>\n",
       "</div>"
      ],
      "text/plain": [
       "                             latitude  longitude  year  hour_sin  hour_cos  \\\n",
       "date                                                                         \n",
       "2023-09-05 15:57:57.522576  52.521389  13.412639  2023 -0.707107 -0.707107   \n",
       "\n",
       "                            weekday_sin  weekday_cos  month_sin     month_cos  \\\n",
       "date                                                                            \n",
       "2023-09-05 15:57:57.522576     0.781831      0.62349       -1.0 -1.836970e-16   \n",
       "\n",
       "                            holiday  ...  bezirk_Pankow  bezirk_Reinickendorf  \\\n",
       "date                                 ...                                        \n",
       "2023-09-05 15:57:57.522576        0  ...            0.0                   0.0   \n",
       "\n",
       "                            bezirk_Spandau  bezirk_Steglitz-Zehlendorf  \\\n",
       "date                                                                     \n",
       "2023-09-05 15:57:57.522576             0.0                         0.0   \n",
       "\n",
       "                            bezirk_Tempelhof-Schöneberg  \\\n",
       "date                                                      \n",
       "2023-09-05 15:57:57.522576                          0.0   \n",
       "\n",
       "                            bezirk_Treptow-Köpenick  bezirk_Brandenburg  \\\n",
       "date                                                                      \n",
       "2023-09-05 15:57:57.522576                      0.0                 0.0   \n",
       "\n",
       "                            local_0  local_1  local_2  \n",
       "date                                                   \n",
       "2023-09-05 15:57:57.522576        5        5        5  \n",
       "\n",
       "[1 rows x 27 columns]"
      ]
     },
     "execution_count": 17,
     "metadata": {},
     "output_type": "execute_result"
    }
   ],
   "source": [
    "X_pred"
   ]
  },
  {
   "cell_type": "code",
   "execution_count": 14,
   "metadata": {},
   "outputs": [],
   "source": [
    "model = pickle.load(open('../ticket_control/model.pkl', 'rb'))"
   ]
  },
  {
   "cell_type": "code",
   "execution_count": 15,
   "metadata": {},
   "outputs": [
    {
     "data": {
      "text/plain": [
       "array(['latitude', 'longitude', 'year', 'hour_sin', 'hour_cos',\n",
       "       'weekday_sin', 'weekday_cos', 'month_sin', 'month_cos', 'holiday',\n",
       "       'covid', 'local_0', 'local_1', 'local_2', 'bezirk_Brandenburg',\n",
       "       'bezirk_Charlottenburg-Wilmersdorf',\n",
       "       'bezirk_Friedrichshain-Kreuzberg', 'bezirk_Lichtenberg',\n",
       "       'bezirk_Marzahn-Hellersdorf', 'bezirk_Mitte', 'bezirk_Neukölln',\n",
       "       'bezirk_Pankow', 'bezirk_Reinickendorf', 'bezirk_Spandau',\n",
       "       'bezirk_Steglitz-Zehlendorf', 'bezirk_Tempelhof-Schöneberg',\n",
       "       'bezirk_Treptow-Köpenick'], dtype=object)"
      ]
     },
     "execution_count": 15,
     "metadata": {},
     "output_type": "execute_result"
    }
   ],
   "source": [
    "model.feature_names_in_"
   ]
  },
  {
   "cell_type": "code",
   "execution_count": 16,
   "metadata": {},
   "outputs": [
    {
     "data": {
      "text/plain": [
       "array([1])"
      ]
     },
     "execution_count": 16,
     "metadata": {},
     "output_type": "execute_result"
    }
   ],
   "source": [
    "model.predict(X_pred[model.feature_names_in_])"
   ]
  }
 ],
 "metadata": {
  "kernelspec": {
   "display_name": "Python 3 (ipykernel)",
   "language": "python",
   "name": "python3"
  },
  "language_info": {
   "codemirror_mode": {
    "name": "ipython",
    "version": 3
   },
   "file_extension": ".py",
   "mimetype": "text/x-python",
   "name": "python",
   "nbconvert_exporter": "python",
   "pygments_lexer": "ipython3",
   "version": "3.10.6"
  }
 },
 "nbformat": 4,
 "nbformat_minor": 4
}
