{
 "cells": [
  {
   "cell_type": "code",
   "execution_count": 144,
   "metadata": {},
   "outputs": [
    {
     "name": "stdout",
     "output_type": "stream",
     "text": [
      "Requirement already satisfied: nltk in /home/yannik/.pyenv/versions/3.10.6/envs/bvg-project-env/lib/python3.10/site-packages (3.8.1)\n",
      "Requirement already satisfied: click in /home/yannik/.pyenv/versions/3.10.6/envs/bvg-project-env/lib/python3.10/site-packages (from nltk) (8.1.7)\n",
      "Requirement already satisfied: joblib in /home/yannik/.pyenv/versions/3.10.6/envs/bvg-project-env/lib/python3.10/site-packages (from nltk) (1.3.2)\n",
      "Requirement already satisfied: regex>=2021.8.3 in /home/yannik/.pyenv/versions/3.10.6/envs/bvg-project-env/lib/python3.10/site-packages (from nltk) (2023.8.8)\n",
      "Requirement already satisfied: tqdm in /home/yannik/.pyenv/versions/3.10.6/envs/bvg-project-env/lib/python3.10/site-packages (from nltk) (4.66.1)\n"
     ]
    }
   ],
   "source": [
    "### all of the imports go into requirements!!!\n",
    "\n",
    "import matplotlib.pyplot as plt\n",
    "import pandas as pd\n",
    "import numpy as np\n",
    "import scipy\n",
    "import pathlib\n",
    "from pathlib import Path\n",
    "import string\n",
    "from datetime import timedelta\n",
    "from nltk.corpus import stopwords\n",
    "from nltk import word_tokenize\n",
    "!pip install nltk\n",
    "from collections import Counter"
   ]
  },
  {
   "cell_type": "code",
   "execution_count": 145,
   "metadata": {},
   "outputs": [],
   "source": [
    "# Load your existing database into a DataFrame\n",
    "data = pd.read_csv('/home/yannik/ticket-control-bvg/data/telegram_data.csv')  # Replace with the path to your database file\n",
    "# Notice the .copy() to copy the values \n",
    "data = data.copy()"
   ]
  },
  {
   "cell_type": "code",
   "execution_count": 146,
   "metadata": {
    "jupyter": {
     "source_hidden": true
    }
   },
   "outputs": [
    {
     "data": {
      "text/html": [
       "<div>\n",
       "<style scoped>\n",
       "    .dataframe tbody tr th:only-of-type {\n",
       "        vertical-align: middle;\n",
       "    }\n",
       "\n",
       "    .dataframe tbody tr th {\n",
       "        vertical-align: top;\n",
       "    }\n",
       "\n",
       "    .dataframe thead th {\n",
       "        text-align: right;\n",
       "    }\n",
       "</style>\n",
       "<table border=\"1\" class=\"dataframe\">\n",
       "  <thead>\n",
       "    <tr style=\"text-align: right;\">\n",
       "      <th></th>\n",
       "      <th>group</th>\n",
       "      <th>sender</th>\n",
       "      <th>text</th>\n",
       "      <th>date</th>\n",
       "    </tr>\n",
       "  </thead>\n",
       "  <tbody>\n",
       "    <tr>\n",
       "      <th>0</th>\n",
       "      <td>freifahren_BE</td>\n",
       "      <td>NaN</td>\n",
       "      <td>NaN</td>\n",
       "      <td>2018-02-15 11:01:00</td>\n",
       "    </tr>\n",
       "    <tr>\n",
       "      <th>1</th>\n",
       "      <td>freifahren_BE</td>\n",
       "      <td>283284722.0</td>\n",
       "      <td>Hä</td>\n",
       "      <td>2018-02-15 11:14:10</td>\n",
       "    </tr>\n",
       "    <tr>\n",
       "      <th>2</th>\n",
       "      <td>freifahren_BE</td>\n",
       "      <td>462810467.0</td>\n",
       "      <td>NaN</td>\n",
       "      <td>2018-02-15 11:17:08</td>\n",
       "    </tr>\n",
       "    <tr>\n",
       "      <th>3</th>\n",
       "      <td>freifahren_BE</td>\n",
       "      <td>462810467.0</td>\n",
       "      <td>NaN</td>\n",
       "      <td>2018-02-15 11:18:17</td>\n",
       "    </tr>\n",
       "    <tr>\n",
       "      <th>4</th>\n",
       "      <td>freifahren_BE</td>\n",
       "      <td>462810467.0</td>\n",
       "      <td>NaN</td>\n",
       "      <td>2018-02-15 11:21:17</td>\n",
       "    </tr>\n",
       "    <tr>\n",
       "      <th>5</th>\n",
       "      <td>freifahren_BE</td>\n",
       "      <td>277514659.0</td>\n",
       "      <td>NaN</td>\n",
       "      <td>2018-02-15 11:26:31</td>\n",
       "    </tr>\n",
       "    <tr>\n",
       "      <th>6</th>\n",
       "      <td>freifahren_BE</td>\n",
       "      <td>21995695.0</td>\n",
       "      <td>YES</td>\n",
       "      <td>2018-02-15 11:26:54</td>\n",
       "    </tr>\n",
       "    <tr>\n",
       "      <th>7</th>\n",
       "      <td>freifahren_BE</td>\n",
       "      <td>21995695.0</td>\n",
       "      <td>NaN</td>\n",
       "      <td>2018-02-15 11:26:57</td>\n",
       "    </tr>\n",
       "    <tr>\n",
       "      <th>8</th>\n",
       "      <td>freifahren_BE</td>\n",
       "      <td>21995695.0</td>\n",
       "      <td>😂😂  😂</td>\n",
       "      <td>2018-02-15 11:27:08</td>\n",
       "    </tr>\n",
       "    <tr>\n",
       "      <th>9</th>\n",
       "      <td>freifahren_BE</td>\n",
       "      <td>462810467.0</td>\n",
       "      <td>NaN</td>\n",
       "      <td>2018-02-15 11:28:09</td>\n",
       "    </tr>\n",
       "  </tbody>\n",
       "</table>\n",
       "</div>"
      ],
      "text/plain": [
       "           group       sender   text                 date\n",
       "0  freifahren_BE          NaN    NaN  2018-02-15 11:01:00\n",
       "1  freifahren_BE  283284722.0     Hä  2018-02-15 11:14:10\n",
       "2  freifahren_BE  462810467.0    NaN  2018-02-15 11:17:08\n",
       "3  freifahren_BE  462810467.0    NaN  2018-02-15 11:18:17\n",
       "4  freifahren_BE  462810467.0    NaN  2018-02-15 11:21:17\n",
       "5  freifahren_BE  277514659.0    NaN  2018-02-15 11:26:31\n",
       "6  freifahren_BE   21995695.0    YES  2018-02-15 11:26:54\n",
       "7  freifahren_BE   21995695.0    NaN  2018-02-15 11:26:57\n",
       "8  freifahren_BE   21995695.0  😂😂  😂  2018-02-15 11:27:08\n",
       "9  freifahren_BE  462810467.0    NaN  2018-02-15 11:28:09"
      ]
     },
     "execution_count": 146,
     "metadata": {},
     "output_type": "execute_result"
    }
   ],
   "source": [
    "data.head(10)"
   ]
  },
  {
   "cell_type": "code",
   "execution_count": 147,
   "metadata": {},
   "outputs": [],
   "source": [
    "data['sender'] = data['sender'].astype(str)"
   ]
  },
  {
   "cell_type": "code",
   "execution_count": 148,
   "metadata": {
    "jupyter": {
     "source_hidden": true
    }
   },
   "outputs": [
    {
     "name": "stdout",
     "output_type": "stream",
     "text": [
      "<class 'pandas.core.frame.DataFrame'>\n",
      "RangeIndex: 251280 entries, 0 to 251279\n",
      "Data columns (total 4 columns):\n",
      " #   Column  Non-Null Count   Dtype \n",
      "---  ------  --------------   ----- \n",
      " 0   group   251280 non-null  object\n",
      " 1   sender  251280 non-null  object\n",
      " 2   text    206853 non-null  object\n",
      " 3   date    251280 non-null  object\n",
      "dtypes: object(4)\n",
      "memory usage: 7.7+ MB\n"
     ]
    }
   ],
   "source": [
    "data.info()"
   ]
  },
  {
   "cell_type": "markdown",
   "metadata": {},
   "source": [
    "## Cleaning the dataset"
   ]
  },
  {
   "cell_type": "code",
   "execution_count": 149,
   "metadata": {},
   "outputs": [
    {
     "data": {
      "text/plain": [
       "251280"
      ]
     },
     "execution_count": 149,
     "metadata": {},
     "output_type": "execute_result"
    }
   ],
   "source": [
    "len(data)"
   ]
  },
  {
   "cell_type": "markdown",
   "metadata": {},
   "source": [
    "### Date > Datetime Format"
   ]
  },
  {
   "cell_type": "code",
   "execution_count": 150,
   "metadata": {
    "scrolled": true
   },
   "outputs": [
    {
     "name": "stdout",
     "output_type": "stream",
     "text": [
      "<class 'pandas.core.frame.DataFrame'>\n",
      "RangeIndex: 251280 entries, 0 to 251279\n",
      "Data columns (total 4 columns):\n",
      " #   Column  Non-Null Count   Dtype         \n",
      "---  ------  --------------   -----         \n",
      " 0   group   251280 non-null  object        \n",
      " 1   sender  251280 non-null  object        \n",
      " 2   text    206853 non-null  object        \n",
      " 3   date    251280 non-null  datetime64[ns]\n",
      "dtypes: datetime64[ns](1), object(3)\n",
      "memory usage: 7.7+ MB\n"
     ]
    }
   ],
   "source": [
    "data[\"date\"] = pd.to_datetime(data[\"date\"])\n",
    "data.info()"
   ]
  },
  {
   "cell_type": "markdown",
   "metadata": {},
   "source": [
    "### Clean dataframe of na/nan,...."
   ]
  },
  {
   "cell_type": "code",
   "execution_count": 151,
   "metadata": {},
   "outputs": [],
   "source": [
    "data = data[data['text'].notna()]"
   ]
  },
  {
   "cell_type": "code",
   "execution_count": 152,
   "metadata": {},
   "outputs": [],
   "source": [
    "data['text'] = data['text'].str.strip()"
   ]
  },
  {
   "cell_type": "code",
   "execution_count": 153,
   "metadata": {},
   "outputs": [],
   "source": [
    "data['text'].replace('', np.nan, inplace=True)"
   ]
  },
  {
   "cell_type": "code",
   "execution_count": 154,
   "metadata": {},
   "outputs": [],
   "source": [
    "data.dropna(subset=['text'], inplace=True)"
   ]
  },
  {
   "cell_type": "code",
   "execution_count": 155,
   "metadata": {},
   "outputs": [
    {
     "data": {
      "text/plain": [
       "206853"
      ]
     },
     "execution_count": 155,
     "metadata": {},
     "output_type": "execute_result"
    }
   ],
   "source": [
    "len(data)"
   ]
  },
  {
   "cell_type": "markdown",
   "metadata": {},
   "source": [
    "### Merging rows together that belong to the same sender within a given timeframe"
   ]
  },
  {
   "cell_type": "code",
   "execution_count": 156,
   "metadata": {},
   "outputs": [
    {
     "data": {
      "text/html": [
       "<div>\n",
       "<style scoped>\n",
       "    .dataframe tbody tr th:only-of-type {\n",
       "        vertical-align: middle;\n",
       "    }\n",
       "\n",
       "    .dataframe tbody tr th {\n",
       "        vertical-align: top;\n",
       "    }\n",
       "\n",
       "    .dataframe thead th {\n",
       "        text-align: right;\n",
       "    }\n",
       "</style>\n",
       "<table border=\"1\" class=\"dataframe\">\n",
       "  <thead>\n",
       "    <tr style=\"text-align: right;\">\n",
       "      <th></th>\n",
       "      <th>sender</th>\n",
       "      <th>time_diff</th>\n",
       "      <th>text</th>\n",
       "      <th>date</th>\n",
       "    </tr>\n",
       "  </thead>\n",
       "  <tbody>\n",
       "    <tr>\n",
       "      <th>0</th>\n",
       "      <td>-1001345643242.0</td>\n",
       "      <td>0</td>\n",
       "      <td>Kann ich beim Kauf eines Tickets 9 € in alle S...</td>\n",
       "      <td>2022-06-01 21:42:14</td>\n",
       "    </tr>\n",
       "    <tr>\n",
       "      <th>1</th>\n",
       "      <td>-1001345643242.0</td>\n",
       "      <td>1</td>\n",
       "      <td>Ok danke</td>\n",
       "      <td>2022-06-01 21:58:49</td>\n",
       "    </tr>\n",
       "    <tr>\n",
       "      <th>2</th>\n",
       "      <td>-1001570966831.0</td>\n",
       "      <td>1</td>\n",
       "      <td>Kontis Mehringdamm Weiß ich nich bin schon Weg...</td>\n",
       "      <td>2022-03-03 16:41:36</td>\n",
       "    </tr>\n",
       "    <tr>\n",
       "      <th>3</th>\n",
       "      <td>-1001570966831.0</td>\n",
       "      <td>2</td>\n",
       "      <td>Kontis Moritzplatz</td>\n",
       "      <td>2022-03-10 14:38:26</td>\n",
       "    </tr>\n",
       "    <tr>\n",
       "      <th>4</th>\n",
       "      <td>-1001570966831.0</td>\n",
       "      <td>3</td>\n",
       "      <td>Ganz viele kontis am kotti stehen vor der Bahn...</td>\n",
       "      <td>2022-03-21 08:53:11</td>\n",
       "    </tr>\n",
       "    <tr>\n",
       "      <th>...</th>\n",
       "      <td>...</td>\n",
       "      <td>...</td>\n",
       "      <td>...</td>\n",
       "      <td>...</td>\n",
       "    </tr>\n",
       "    <tr>\n",
       "      <th>147952</th>\n",
       "      <td>999684523.0</td>\n",
       "      <td>127404</td>\n",
       "      <td>U2 bei RosaLixenburger Platz. . 3 manner.</td>\n",
       "      <td>2021-03-08 13:48:04</td>\n",
       "    </tr>\n",
       "    <tr>\n",
       "      <th>147953</th>\n",
       "      <td>999684523.0</td>\n",
       "      <td>127405</td>\n",
       "      <td>U5 weberwiese. 3-4 manner</td>\n",
       "      <td>2021-03-08 14:52:48</td>\n",
       "    </tr>\n",
       "    <tr>\n",
       "      <th>147954</th>\n",
       "      <td>999684523.0</td>\n",
       "      <td>127406</td>\n",
       "      <td>U2 Rosa Luxemburg Platz. Richtung Alex.</td>\n",
       "      <td>2021-04-20 11:53:17</td>\n",
       "    </tr>\n",
       "    <tr>\n",
       "      <th>147955</th>\n",
       "      <td>999708285.0</td>\n",
       "      <td>127406</td>\n",
       "      <td>Wurde mit 10 Uhr ticket um 9 Uhr am südstern  ...</td>\n",
       "      <td>2020-06-19 07:45:47</td>\n",
       "    </tr>\n",
       "    <tr>\n",
       "      <th>147956</th>\n",
       "      <td>999708285.0</td>\n",
       "      <td>127407</td>\n",
       "      <td>Wurde mit 10 Uhr ticket um 9 Uhr am südstern  ...</td>\n",
       "      <td>2020-06-19 18:18:52</td>\n",
       "    </tr>\n",
       "  </tbody>\n",
       "</table>\n",
       "<p>147957 rows × 4 columns</p>\n",
       "</div>"
      ],
      "text/plain": [
       "                  sender  time_diff  \\\n",
       "0       -1001345643242.0          0   \n",
       "1       -1001345643242.0          1   \n",
       "2       -1001570966831.0          1   \n",
       "3       -1001570966831.0          2   \n",
       "4       -1001570966831.0          3   \n",
       "...                  ...        ...   \n",
       "147952       999684523.0     127404   \n",
       "147953       999684523.0     127405   \n",
       "147954       999684523.0     127406   \n",
       "147955       999708285.0     127406   \n",
       "147956       999708285.0     127407   \n",
       "\n",
       "                                                     text                date  \n",
       "0       Kann ich beim Kauf eines Tickets 9 € in alle S... 2022-06-01 21:42:14  \n",
       "1                                                Ok danke 2022-06-01 21:58:49  \n",
       "2       Kontis Mehringdamm Weiß ich nich bin schon Weg... 2022-03-03 16:41:36  \n",
       "3                                      Kontis Moritzplatz 2022-03-10 14:38:26  \n",
       "4       Ganz viele kontis am kotti stehen vor der Bahn... 2022-03-21 08:53:11  \n",
       "...                                                   ...                 ...  \n",
       "147952          U2 bei RosaLixenburger Platz. . 3 manner. 2021-03-08 13:48:04  \n",
       "147953                          U5 weberwiese. 3-4 manner 2021-03-08 14:52:48  \n",
       "147954            U2 Rosa Luxemburg Platz. Richtung Alex. 2021-04-20 11:53:17  \n",
       "147955  Wurde mit 10 Uhr ticket um 9 Uhr am südstern  ... 2020-06-19 07:45:47  \n",
       "147956  Wurde mit 10 Uhr ticket um 9 Uhr am südstern  ... 2020-06-19 18:18:52  \n",
       "\n",
       "[147957 rows x 4 columns]"
      ]
     },
     "execution_count": 156,
     "metadata": {},
     "output_type": "execute_result"
    }
   ],
   "source": [
    "df = data.sort_values(by=['sender', 'date'])\n",
    "\n",
    "df['time_diff'] = df.groupby('sender')['date'].diff()\n",
    "\n",
    "data_clean = df.groupby(['sender', (df['time_diff'] > timedelta(minutes=10)).cumsum()]).agg({'text': ' '.join, \n",
    "                                                                                         'date': 'first'}).reset_index()\n",
    "data_clean"
   ]
  },
  {
   "cell_type": "code",
   "execution_count": 157,
   "metadata": {},
   "outputs": [],
   "source": [
    "data_clean['sender'] = data_clean['sender'].astype(str)"
   ]
  },
  {
   "cell_type": "code",
   "execution_count": 158,
   "metadata": {},
   "outputs": [
    {
     "data": {
      "text/html": [
       "<div>\n",
       "<style scoped>\n",
       "    .dataframe tbody tr th:only-of-type {\n",
       "        vertical-align: middle;\n",
       "    }\n",
       "\n",
       "    .dataframe tbody tr th {\n",
       "        vertical-align: top;\n",
       "    }\n",
       "\n",
       "    .dataframe thead th {\n",
       "        text-align: right;\n",
       "    }\n",
       "</style>\n",
       "<table border=\"1\" class=\"dataframe\">\n",
       "  <thead>\n",
       "    <tr style=\"text-align: right;\">\n",
       "      <th></th>\n",
       "      <th>sender</th>\n",
       "      <th>time_diff</th>\n",
       "      <th>text</th>\n",
       "      <th>date</th>\n",
       "    </tr>\n",
       "  </thead>\n",
       "  <tbody>\n",
       "    <tr>\n",
       "      <th>147927</th>\n",
       "      <td>999204625.0</td>\n",
       "      <td>127386</td>\n",
       "      <td>S1 nach Wannsee Höhe julius leber. 2 Frauen, s...</td>\n",
       "      <td>2020-10-22 05:57:18</td>\n",
       "    </tr>\n",
       "    <tr>\n",
       "      <th>147928</th>\n",
       "      <td>999204625.0</td>\n",
       "      <td>127387</td>\n",
       "      <td>S1 Friedrichstraße auf dem unteren Bahnhof. Si...</td>\n",
       "      <td>2020-12-22 10:21:47</td>\n",
       "    </tr>\n",
       "    <tr>\n",
       "      <th>147929</th>\n",
       "      <td>999204625.0</td>\n",
       "      <td>127388</td>\n",
       "      <td>2 ppl Friedrichstraße - 2nd one all black clot...</td>\n",
       "      <td>2021-02-25 09:24:20</td>\n",
       "    </tr>\n",
       "    <tr>\n",
       "      <th>147930</th>\n",
       "      <td>999204625.0</td>\n",
       "      <td>127389</td>\n",
       "      <td>2 Männer eine Frau Kaiser Wilhelm Platz gerade...</td>\n",
       "      <td>2021-05-12 11:33:47</td>\n",
       "    </tr>\n",
       "    <tr>\n",
       "      <th>147931</th>\n",
       "      <td>999204625.0</td>\n",
       "      <td>127390</td>\n",
       "      <td>Friedrichstraße direction west in s5 Direction...</td>\n",
       "      <td>2021-11-27 22:31:52</td>\n",
       "    </tr>\n",
       "    <tr>\n",
       "      <th>147932</th>\n",
       "      <td>999204625.0</td>\n",
       "      <td>127391</td>\n",
       "      <td>S1 at Friedrichstraße direction north. White bag</td>\n",
       "      <td>2021-12-08 07:40:29</td>\n",
       "    </tr>\n",
       "    <tr>\n",
       "      <th>147933</th>\n",
       "      <td>999215014.0</td>\n",
       "      <td>127391</td>\n",
       "      <td>S7 linie sind welche</td>\n",
       "      <td>2020-08-06 10:52:07</td>\n",
       "    </tr>\n",
       "    <tr>\n",
       "      <th>147934</th>\n",
       "      <td>999215014.0</td>\n",
       "      <td>127392</td>\n",
       "      <td>hackeschee markt 3 menschen Jetzt Friedrichstr...</td>\n",
       "      <td>2020-08-06 11:22:34</td>\n",
       "    </tr>\n",
       "    <tr>\n",
       "      <th>147935</th>\n",
       "      <td>999215014.0</td>\n",
       "      <td>127393</td>\n",
       "      <td>2 kontros u 6 kochstraße ausgestiegen 2 kontro...</td>\n",
       "      <td>2020-08-12 06:11:57</td>\n",
       "    </tr>\n",
       "    <tr>\n",
       "      <th>147936</th>\n",
       "      <td>999215014.0</td>\n",
       "      <td>127394</td>\n",
       "      <td>polizei rathaus steglitz mit 1 kontrolleur</td>\n",
       "      <td>2020-08-20 15:44:48</td>\n",
       "    </tr>\n",
       "    <tr>\n",
       "      <th>147937</th>\n",
       "      <td>999215014.0</td>\n",
       "      <td>127395</td>\n",
       "      <td>s41 tempelhof und s41 ostkreuz \\nfett kontros ...</td>\n",
       "      <td>2020-11-07 14:56:05</td>\n",
       "    </tr>\n",
       "    <tr>\n",
       "      <th>147938</th>\n",
       "      <td>999365610.0</td>\n",
       "      <td>127395</td>\n",
       "      <td>Immer noch…</td>\n",
       "      <td>2023-03-24 12:45:03</td>\n",
       "    </tr>\n",
       "    <tr>\n",
       "      <th>147939</th>\n",
       "      <td>999365610.0</td>\n",
       "      <td>127396</td>\n",
       "      <td>BVG fährt alles, nur S-Bahn &amp; co werden bestreikt</td>\n",
       "      <td>2023-03-27 09:27:54</td>\n",
       "    </tr>\n",
       "    <tr>\n",
       "      <th>147940</th>\n",
       "      <td>999365610.0</td>\n",
       "      <td>127397</td>\n",
       "      <td>Sind drin, hinteres Ende des Zuges. Grade Mehr...</td>\n",
       "      <td>2023-04-11 12:18:39</td>\n",
       "    </tr>\n",
       "    <tr>\n",
       "      <th>147941</th>\n",
       "      <td>999365610.0</td>\n",
       "      <td>127398</td>\n",
       "      <td>Nicht wirklich frei fahren relevant, aber viel...</td>\n",
       "      <td>2023-04-13 14:53:35</td>\n",
       "    </tr>\n",
       "    <tr>\n",
       "      <th>147942</th>\n",
       "      <td>999365610.0</td>\n",
       "      <td>127399</td>\n",
       "      <td>2x Ordnungsamt, vorderer Teil des Zuges am Bun...</td>\n",
       "      <td>2023-05-17 09:43:12</td>\n",
       "    </tr>\n",
       "    <tr>\n",
       "      <th>147943</th>\n",
       "      <td>999416326.0</td>\n",
       "      <td>127399</td>\n",
       "      <td>U6 Platz der Luftbrücke</td>\n",
       "      <td>2023-07-05 17:13:00</td>\n",
       "    </tr>\n",
       "    <tr>\n",
       "      <th>147944</th>\n",
       "      <td>999425588.0</td>\n",
       "      <td>127399</td>\n",
       "      <td>Hallo hätte jemand ein Berlin Ticket u vom ges...</td>\n",
       "      <td>2020-08-17 08:03:02</td>\n",
       "    </tr>\n",
       "    <tr>\n",
       "      <th>147945</th>\n",
       "      <td>999425588.0</td>\n",
       "      <td>127400</td>\n",
       "      <td>Yes got one yesterday at 13:30 would be lovely...</td>\n",
       "      <td>2020-08-17 08:20:29</td>\n",
       "    </tr>\n",
       "    <tr>\n",
       "      <th>147946</th>\n",
       "      <td>999425588.0</td>\n",
       "      <td>127401</td>\n",
       "      <td>Hallo hätte jemand ein Berlin Ticket u vom ges...</td>\n",
       "      <td>2020-08-17 10:48:37</td>\n",
       "    </tr>\n",
       "    <tr>\n",
       "      <th>147947</th>\n",
       "      <td>999425588.0</td>\n",
       "      <td>127402</td>\n",
       "      <td>U 6 keizer augastina black clothes mawhawk and...</td>\n",
       "      <td>2021-01-15 13:07:43</td>\n",
       "    </tr>\n",
       "    <tr>\n",
       "      <th>147948</th>\n",
       "      <td>999425588.0</td>\n",
       "      <td>127403</td>\n",
       "      <td>U7 Südstern</td>\n",
       "      <td>2021-02-04 13:32:56</td>\n",
       "    </tr>\n",
       "    <tr>\n",
       "      <th>147949</th>\n",
       "      <td>999489207.0</td>\n",
       "      <td>127403</td>\n",
       "      <td>Habe ein blanko Berlin-Pass Ticket S ab zu geb...</td>\n",
       "      <td>2020-06-28 11:19:15</td>\n",
       "    </tr>\n",
       "    <tr>\n",
       "      <th>147950</th>\n",
       "      <td>999489207.0</td>\n",
       "      <td>127404</td>\n",
       "      <td>Ich habe noch ein blanko Berlin Ticket S ( für...</td>\n",
       "      <td>2020-06-30 18:26:45</td>\n",
       "    </tr>\n",
       "    <tr>\n",
       "      <th>147951</th>\n",
       "      <td>999510343.0</td>\n",
       "      <td>127404</td>\n",
       "      <td>2 guys 2 girls U5 weberwiese</td>\n",
       "      <td>2020-06-26 08:22:52</td>\n",
       "    </tr>\n",
       "    <tr>\n",
       "      <th>147952</th>\n",
       "      <td>999684523.0</td>\n",
       "      <td>127404</td>\n",
       "      <td>U2 bei RosaLixenburger Platz. . 3 manner.</td>\n",
       "      <td>2021-03-08 13:48:04</td>\n",
       "    </tr>\n",
       "    <tr>\n",
       "      <th>147953</th>\n",
       "      <td>999684523.0</td>\n",
       "      <td>127405</td>\n",
       "      <td>U5 weberwiese. 3-4 manner</td>\n",
       "      <td>2021-03-08 14:52:48</td>\n",
       "    </tr>\n",
       "    <tr>\n",
       "      <th>147954</th>\n",
       "      <td>999684523.0</td>\n",
       "      <td>127406</td>\n",
       "      <td>U2 Rosa Luxemburg Platz. Richtung Alex.</td>\n",
       "      <td>2021-04-20 11:53:17</td>\n",
       "    </tr>\n",
       "    <tr>\n",
       "      <th>147955</th>\n",
       "      <td>999708285.0</td>\n",
       "      <td>127406</td>\n",
       "      <td>Wurde mit 10 Uhr ticket um 9 Uhr am südstern  ...</td>\n",
       "      <td>2020-06-19 07:45:47</td>\n",
       "    </tr>\n",
       "    <tr>\n",
       "      <th>147956</th>\n",
       "      <td>999708285.0</td>\n",
       "      <td>127407</td>\n",
       "      <td>Wurde mit 10 Uhr ticket um 9 Uhr am südstern  ...</td>\n",
       "      <td>2020-06-19 18:18:52</td>\n",
       "    </tr>\n",
       "  </tbody>\n",
       "</table>\n",
       "</div>"
      ],
      "text/plain": [
       "             sender  time_diff  \\\n",
       "147927  999204625.0     127386   \n",
       "147928  999204625.0     127387   \n",
       "147929  999204625.0     127388   \n",
       "147930  999204625.0     127389   \n",
       "147931  999204625.0     127390   \n",
       "147932  999204625.0     127391   \n",
       "147933  999215014.0     127391   \n",
       "147934  999215014.0     127392   \n",
       "147935  999215014.0     127393   \n",
       "147936  999215014.0     127394   \n",
       "147937  999215014.0     127395   \n",
       "147938  999365610.0     127395   \n",
       "147939  999365610.0     127396   \n",
       "147940  999365610.0     127397   \n",
       "147941  999365610.0     127398   \n",
       "147942  999365610.0     127399   \n",
       "147943  999416326.0     127399   \n",
       "147944  999425588.0     127399   \n",
       "147945  999425588.0     127400   \n",
       "147946  999425588.0     127401   \n",
       "147947  999425588.0     127402   \n",
       "147948  999425588.0     127403   \n",
       "147949  999489207.0     127403   \n",
       "147950  999489207.0     127404   \n",
       "147951  999510343.0     127404   \n",
       "147952  999684523.0     127404   \n",
       "147953  999684523.0     127405   \n",
       "147954  999684523.0     127406   \n",
       "147955  999708285.0     127406   \n",
       "147956  999708285.0     127407   \n",
       "\n",
       "                                                     text                date  \n",
       "147927  S1 nach Wannsee Höhe julius leber. 2 Frauen, s... 2020-10-22 05:57:18  \n",
       "147928  S1 Friedrichstraße auf dem unteren Bahnhof. Si... 2020-12-22 10:21:47  \n",
       "147929  2 ppl Friedrichstraße - 2nd one all black clot... 2021-02-25 09:24:20  \n",
       "147930  2 Männer eine Frau Kaiser Wilhelm Platz gerade... 2021-05-12 11:33:47  \n",
       "147931  Friedrichstraße direction west in s5 Direction... 2021-11-27 22:31:52  \n",
       "147932   S1 at Friedrichstraße direction north. White bag 2021-12-08 07:40:29  \n",
       "147933                               S7 linie sind welche 2020-08-06 10:52:07  \n",
       "147934  hackeschee markt 3 menschen Jetzt Friedrichstr... 2020-08-06 11:22:34  \n",
       "147935  2 kontros u 6 kochstraße ausgestiegen 2 kontro... 2020-08-12 06:11:57  \n",
       "147936         polizei rathaus steglitz mit 1 kontrolleur 2020-08-20 15:44:48  \n",
       "147937  s41 tempelhof und s41 ostkreuz \\nfett kontros ... 2020-11-07 14:56:05  \n",
       "147938                                        Immer noch… 2023-03-24 12:45:03  \n",
       "147939  BVG fährt alles, nur S-Bahn & co werden bestreikt 2023-03-27 09:27:54  \n",
       "147940  Sind drin, hinteres Ende des Zuges. Grade Mehr... 2023-04-11 12:18:39  \n",
       "147941  Nicht wirklich frei fahren relevant, aber viel... 2023-04-13 14:53:35  \n",
       "147942  2x Ordnungsamt, vorderer Teil des Zuges am Bun... 2023-05-17 09:43:12  \n",
       "147943                            U6 Platz der Luftbrücke 2023-07-05 17:13:00  \n",
       "147944  Hallo hätte jemand ein Berlin Ticket u vom ges... 2020-08-17 08:03:02  \n",
       "147945  Yes got one yesterday at 13:30 would be lovely... 2020-08-17 08:20:29  \n",
       "147946  Hallo hätte jemand ein Berlin Ticket u vom ges... 2020-08-17 10:48:37  \n",
       "147947  U 6 keizer augastina black clothes mawhawk and... 2021-01-15 13:07:43  \n",
       "147948                                        U7 Südstern 2021-02-04 13:32:56  \n",
       "147949  Habe ein blanko Berlin-Pass Ticket S ab zu geb... 2020-06-28 11:19:15  \n",
       "147950  Ich habe noch ein blanko Berlin Ticket S ( für... 2020-06-30 18:26:45  \n",
       "147951                       2 guys 2 girls U5 weberwiese 2020-06-26 08:22:52  \n",
       "147952          U2 bei RosaLixenburger Platz. . 3 manner. 2021-03-08 13:48:04  \n",
       "147953                          U5 weberwiese. 3-4 manner 2021-03-08 14:52:48  \n",
       "147954            U2 Rosa Luxemburg Platz. Richtung Alex. 2021-04-20 11:53:17  \n",
       "147955  Wurde mit 10 Uhr ticket um 9 Uhr am südstern  ... 2020-06-19 07:45:47  \n",
       "147956  Wurde mit 10 Uhr ticket um 9 Uhr am südstern  ... 2020-06-19 18:18:52  "
      ]
     },
     "execution_count": 158,
     "metadata": {},
     "output_type": "execute_result"
    }
   ],
   "source": [
    "data_clean.tail(30)"
   ]
  },
  {
   "cell_type": "code",
   "execution_count": 159,
   "metadata": {},
   "outputs": [
    {
     "data": {
      "text/plain": [
       "147957"
      ]
     },
     "execution_count": 159,
     "metadata": {},
     "output_type": "execute_result"
    }
   ],
   "source": [
    "len(data_clean)"
   ]
  },
  {
   "cell_type": "markdown",
   "metadata": {},
   "source": [
    "### De-Emojify"
   ]
  },
  {
   "cell_type": "code",
   "execution_count": 160,
   "metadata": {},
   "outputs": [],
   "source": [
    "import re\n",
    "def remove_emojis(data):\n",
    "    emoj = re.compile(\"[\"\n",
    "        u\"\\U0001F600-\\U0001F64F\"  # emoticons\n",
    "        u\"\\U0001F300-\\U0001F5FF\"  # symbols & pictographs\n",
    "        u\"\\U0001F680-\\U0001F6FF\"  # transport & map symbols\n",
    "        u\"\\U0001F1E0-\\U0001F1FF\"  # flags (iOS)\n",
    "        u\"\\U00002500-\\U00002BEF\"  # chinese char\n",
    "        u\"\\U00002702-\\U000027B0\"\n",
    "        u\"\\U00002702-\\U000027B0\"\n",
    "        u\"\\U000024C2-\\U0001F251\"\n",
    "        u\"\\U0001f926-\\U0001f937\"\n",
    "        u\"\\U00010000-\\U0010ffff\"\n",
    "        u\"\\u2640-\\u2642\" \n",
    "        u\"\\u2600-\\u2B55\"\n",
    "        u\"\\u200d\"\n",
    "        u\"\\u23cf\"\n",
    "        u\"\\u23e9\"\n",
    "        u\"\\u231a\"\n",
    "        u\"\\ufe0f\"  # dingbats\n",
    "        u\"\\u3030\"\n",
    "                      \"]+\", re.UNICODE)\n",
    "    return re.sub(emoj, '', data)"
   ]
  },
  {
   "cell_type": "code",
   "execution_count": 161,
   "metadata": {},
   "outputs": [],
   "source": [
    "data_clean['text']= data_clean['text'].apply(lambda x: remove_emojis(str(x)))"
   ]
  },
  {
   "cell_type": "code",
   "execution_count": 162,
   "metadata": {
    "jupyter": {
     "source_hidden": true
    }
   },
   "outputs": [
    {
     "data": {
      "text/html": [
       "<div>\n",
       "<style scoped>\n",
       "    .dataframe tbody tr th:only-of-type {\n",
       "        vertical-align: middle;\n",
       "    }\n",
       "\n",
       "    .dataframe tbody tr th {\n",
       "        vertical-align: top;\n",
       "    }\n",
       "\n",
       "    .dataframe thead th {\n",
       "        text-align: right;\n",
       "    }\n",
       "</style>\n",
       "<table border=\"1\" class=\"dataframe\">\n",
       "  <thead>\n",
       "    <tr style=\"text-align: right;\">\n",
       "      <th></th>\n",
       "      <th>sender</th>\n",
       "      <th>time_diff</th>\n",
       "      <th>text</th>\n",
       "      <th>date</th>\n",
       "    </tr>\n",
       "  </thead>\n",
       "  <tbody>\n",
       "    <tr>\n",
       "      <th>0</th>\n",
       "      <td>-1001345643242.0</td>\n",
       "      <td>0</td>\n",
       "      <td>Kann ich beim Kauf eines Tickets 9 € in alle S...</td>\n",
       "      <td>2022-06-01 21:42:14</td>\n",
       "    </tr>\n",
       "    <tr>\n",
       "      <th>1</th>\n",
       "      <td>-1001345643242.0</td>\n",
       "      <td>1</td>\n",
       "      <td>Ok danke</td>\n",
       "      <td>2022-06-01 21:58:49</td>\n",
       "    </tr>\n",
       "    <tr>\n",
       "      <th>2</th>\n",
       "      <td>-1001570966831.0</td>\n",
       "      <td>1</td>\n",
       "      <td>Kontis Mehringdamm Weiß ich nich bin schon Weg...</td>\n",
       "      <td>2022-03-03 16:41:36</td>\n",
       "    </tr>\n",
       "    <tr>\n",
       "      <th>3</th>\n",
       "      <td>-1001570966831.0</td>\n",
       "      <td>2</td>\n",
       "      <td>Kontis Moritzplatz</td>\n",
       "      <td>2022-03-10 14:38:26</td>\n",
       "    </tr>\n",
       "    <tr>\n",
       "      <th>4</th>\n",
       "      <td>-1001570966831.0</td>\n",
       "      <td>3</td>\n",
       "      <td>Ganz viele kontis am kotti stehen vor der Bahn...</td>\n",
       "      <td>2022-03-21 08:53:11</td>\n",
       "    </tr>\n",
       "  </tbody>\n",
       "</table>\n",
       "</div>"
      ],
      "text/plain": [
       "             sender  time_diff  \\\n",
       "0  -1001345643242.0          0   \n",
       "1  -1001345643242.0          1   \n",
       "2  -1001570966831.0          1   \n",
       "3  -1001570966831.0          2   \n",
       "4  -1001570966831.0          3   \n",
       "\n",
       "                                                text                date  \n",
       "0  Kann ich beim Kauf eines Tickets 9 € in alle S... 2022-06-01 21:42:14  \n",
       "1                                           Ok danke 2022-06-01 21:58:49  \n",
       "2  Kontis Mehringdamm Weiß ich nich bin schon Weg... 2022-03-03 16:41:36  \n",
       "3                                 Kontis Moritzplatz 2022-03-10 14:38:26  \n",
       "4  Ganz viele kontis am kotti stehen vor der Bahn... 2022-03-21 08:53:11  "
      ]
     },
     "execution_count": 162,
     "metadata": {},
     "output_type": "execute_result"
    }
   ],
   "source": [
    "data_clean.head()"
   ]
  },
  {
   "cell_type": "markdown",
   "metadata": {},
   "source": [
    "### Drop rows where text column was empty/had only spaces"
   ]
  },
  {
   "cell_type": "code",
   "execution_count": 163,
   "metadata": {},
   "outputs": [],
   "source": [
    "data_clean = data_clean[data_clean['text'].notna()]"
   ]
  },
  {
   "cell_type": "code",
   "execution_count": 164,
   "metadata": {},
   "outputs": [
    {
     "data": {
      "text/plain": [
       "147957"
      ]
     },
     "execution_count": 164,
     "metadata": {},
     "output_type": "execute_result"
    }
   ],
   "source": [
    "len(data_clean)"
   ]
  },
  {
   "cell_type": "code",
   "execution_count": 165,
   "metadata": {},
   "outputs": [],
   "source": [
    "data_clean['text'] = data_clean['text'].str.strip()"
   ]
  },
  {
   "cell_type": "code",
   "execution_count": 166,
   "metadata": {},
   "outputs": [
    {
     "data": {
      "text/plain": [
       "147957"
      ]
     },
     "execution_count": 166,
     "metadata": {},
     "output_type": "execute_result"
    }
   ],
   "source": [
    "len(data_clean)"
   ]
  },
  {
   "cell_type": "code",
   "execution_count": 167,
   "metadata": {},
   "outputs": [],
   "source": [
    "data_clean['text'].replace('', np.nan, inplace=True)"
   ]
  },
  {
   "cell_type": "code",
   "execution_count": 168,
   "metadata": {},
   "outputs": [
    {
     "data": {
      "text/plain": [
       "147957"
      ]
     },
     "execution_count": 168,
     "metadata": {},
     "output_type": "execute_result"
    }
   ],
   "source": [
    "len(data_clean)"
   ]
  },
  {
   "cell_type": "code",
   "execution_count": 169,
   "metadata": {},
   "outputs": [],
   "source": [
    "data_clean.dropna(subset=['text'], inplace=True)"
   ]
  },
  {
   "cell_type": "code",
   "execution_count": 170,
   "metadata": {},
   "outputs": [
    {
     "data": {
      "text/plain": [
       "147472"
      ]
     },
     "execution_count": 170,
     "metadata": {},
     "output_type": "execute_result"
    }
   ],
   "source": [
    "len(data_clean)"
   ]
  },
  {
   "cell_type": "markdown",
   "metadata": {},
   "source": [
    "### Drop duplicates"
   ]
  },
  {
   "cell_type": "code",
   "execution_count": 171,
   "metadata": {},
   "outputs": [
    {
     "data": {
      "text/plain": [
       "0"
      ]
     },
     "execution_count": 171,
     "metadata": {},
     "output_type": "execute_result"
    }
   ],
   "source": [
    "duplicate_count = data_clean.duplicated().sum()\n",
    "duplicate_count ### This is a lot of duplicates"
   ]
  },
  {
   "cell_type": "code",
   "execution_count": 172,
   "metadata": {},
   "outputs": [],
   "source": [
    "### dropping duplicates\n",
    "data_clean = data_clean.drop_duplicates()"
   ]
  },
  {
   "cell_type": "code",
   "execution_count": 173,
   "metadata": {},
   "outputs": [
    {
     "data": {
      "text/plain": [
       "147472"
      ]
     },
     "execution_count": 173,
     "metadata": {},
     "output_type": "execute_result"
    }
   ],
   "source": [
    "len(data_clean)"
   ]
  },
  {
   "cell_type": "markdown",
   "metadata": {},
   "source": [
    "### Lowercasing all strings"
   ]
  },
  {
   "cell_type": "code",
   "execution_count": 174,
   "metadata": {},
   "outputs": [],
   "source": [
    "### lowercasing all strings\n",
    "data_clean['text']= data_clean['text'].apply(lambda x: x.lower())"
   ]
  },
  {
   "cell_type": "markdown",
   "metadata": {},
   "source": [
    "### identifying and removing stopwords"
   ]
  },
  {
   "cell_type": "code",
   "execution_count": 175,
   "metadata": {},
   "outputs": [],
   "source": [
    "### generating list of default stop words\n",
    "stop_words = set(stopwords.words('german'))"
   ]
  },
  {
   "cell_type": "code",
   "execution_count": 176,
   "metadata": {},
   "outputs": [
    {
     "data": {
      "text/plain": [
       "232"
      ]
     },
     "execution_count": 176,
     "metadata": {},
     "output_type": "execute_result"
    }
   ],
   "source": [
    "len(stop_words)"
   ]
  },
  {
   "cell_type": "code",
   "execution_count": 177,
   "metadata": {},
   "outputs": [],
   "source": [
    "# Add multiple words using the update method\n",
    "new_words_to_add = ['männlich', 'weiblich', 'gelesen','weste','westen', 'shirt', 'pulli', 'jacke', 'jacken', 'ticket', 'tickets', 'eingestiegen', 'ausgestiegen', 'steigen', 'schwarze', 'schwarz', 'männer', 'haare', 'the', 'stehen', 'gelesene', 'blaue', 'with']\n",
    "stop_words.update(new_words_to_add)"
   ]
  },
  {
   "cell_type": "code",
   "execution_count": 178,
   "metadata": {},
   "outputs": [],
   "source": [
    "# Remove unwanted stopwords\n",
    "my_wanted_words = ['nach', 'bei', 'von', 'vom' 'zum', 'über', 'bis']\n",
    "final_stopwords = stop_words - set(my_wanted_words)"
   ]
  },
  {
   "cell_type": "code",
   "execution_count": 179,
   "metadata": {},
   "outputs": [],
   "source": [
    "def stopword(text):\n",
    "    word_tokens = word_tokenize(text)\n",
    "    text = [w for w in word_tokens if not w in final_stopwords]  ## if w isn't in final_stopwords, return w \n",
    "    return ' '.join(text)  ##transforming list into string again"
   ]
  },
  {
   "cell_type": "code",
   "execution_count": 180,
   "metadata": {},
   "outputs": [
    {
     "data": {
      "text/plain": [
       "0                             beim kauf 9 € städte reisen ?\n",
       "1                                                  ok danke\n",
       "2         kontis mehringdamm weiß nich schon sorry : / g...\n",
       "3                                        kontis moritzplatz\n",
       "4                   ganz viele kontis kotti bahn rum blauen\n",
       "                                ...                        \n",
       "147952          u2 bei rosalixenburger platz . . 3 manner .\n",
       "147953                           u5 weberwiese . 3-4 manner\n",
       "147954            u2 rosa luxemburg platz . richtung alex .\n",
       "147955    wurde 10 uhr 9 uhr südstern kontrolliert . zuf...\n",
       "147956    wurde 10 uhr 9 uhr südstern kontrolliert . zuf...\n",
       "Name: text, Length: 147472, dtype: object"
      ]
     },
     "execution_count": 180,
     "metadata": {},
     "output_type": "execute_result"
    }
   ],
   "source": [
    "data_clean['text'] = data_clean['text'].apply(stopword)\n",
    "data_clean['text']"
   ]
  },
  {
   "cell_type": "code",
   "execution_count": 181,
   "metadata": {
    "scrolled": true
   },
   "outputs": [
    {
     "data": {
      "text/html": [
       "<div>\n",
       "<style scoped>\n",
       "    .dataframe tbody tr th:only-of-type {\n",
       "        vertical-align: middle;\n",
       "    }\n",
       "\n",
       "    .dataframe tbody tr th {\n",
       "        vertical-align: top;\n",
       "    }\n",
       "\n",
       "    .dataframe thead th {\n",
       "        text-align: right;\n",
       "    }\n",
       "</style>\n",
       "<table border=\"1\" class=\"dataframe\">\n",
       "  <thead>\n",
       "    <tr style=\"text-align: right;\">\n",
       "      <th></th>\n",
       "      <th>sender</th>\n",
       "      <th>time_diff</th>\n",
       "      <th>text</th>\n",
       "      <th>date</th>\n",
       "    </tr>\n",
       "  </thead>\n",
       "  <tbody>\n",
       "    <tr>\n",
       "      <th>0</th>\n",
       "      <td>-1001345643242.0</td>\n",
       "      <td>0</td>\n",
       "      <td>beim kauf 9 € städte reisen ?</td>\n",
       "      <td>2022-06-01 21:42:14</td>\n",
       "    </tr>\n",
       "    <tr>\n",
       "      <th>1</th>\n",
       "      <td>-1001345643242.0</td>\n",
       "      <td>1</td>\n",
       "      <td>ok danke</td>\n",
       "      <td>2022-06-01 21:58:49</td>\n",
       "    </tr>\n",
       "    <tr>\n",
       "      <th>2</th>\n",
       "      <td>-1001570966831.0</td>\n",
       "      <td>1</td>\n",
       "      <td>kontis mehringdamm weiß nich schon sorry : / g...</td>\n",
       "      <td>2022-03-03 16:41:36</td>\n",
       "    </tr>\n",
       "    <tr>\n",
       "      <th>3</th>\n",
       "      <td>-1001570966831.0</td>\n",
       "      <td>2</td>\n",
       "      <td>kontis moritzplatz</td>\n",
       "      <td>2022-03-10 14:38:26</td>\n",
       "    </tr>\n",
       "    <tr>\n",
       "      <th>4</th>\n",
       "      <td>-1001570966831.0</td>\n",
       "      <td>3</td>\n",
       "      <td>ganz viele kontis kotti bahn rum blauen</td>\n",
       "      <td>2022-03-21 08:53:11</td>\n",
       "    </tr>\n",
       "  </tbody>\n",
       "</table>\n",
       "</div>"
      ],
      "text/plain": [
       "             sender  time_diff  \\\n",
       "0  -1001345643242.0          0   \n",
       "1  -1001345643242.0          1   \n",
       "2  -1001570966831.0          1   \n",
       "3  -1001570966831.0          2   \n",
       "4  -1001570966831.0          3   \n",
       "\n",
       "                                                text                date  \n",
       "0                      beim kauf 9 € städte reisen ? 2022-06-01 21:42:14  \n",
       "1                                           ok danke 2022-06-01 21:58:49  \n",
       "2  kontis mehringdamm weiß nich schon sorry : / g... 2022-03-03 16:41:36  \n",
       "3                                 kontis moritzplatz 2022-03-10 14:38:26  \n",
       "4            ganz viele kontis kotti bahn rum blauen 2022-03-21 08:53:11  "
      ]
     },
     "execution_count": 181,
     "metadata": {},
     "output_type": "execute_result"
    }
   ],
   "source": [
    "data_clean.head()"
   ]
  },
  {
   "cell_type": "markdown",
   "metadata": {},
   "source": [
    "### Remove punctuation"
   ]
  },
  {
   "cell_type": "code",
   "execution_count": 182,
   "metadata": {},
   "outputs": [
    {
     "data": {
      "text/plain": [
       "'!\"#$%&\\'()*+,-./:;<=>?@[\\\\]^_`{|}~'"
      ]
     },
     "execution_count": 182,
     "metadata": {},
     "output_type": "execute_result"
    }
   ],
   "source": [
    "string.punctuation"
   ]
  },
  {
   "cell_type": "code",
   "execution_count": 183,
   "metadata": {},
   "outputs": [],
   "source": [
    "for element in string.punctuation:\n",
    "    data_clean['text'] = data_clean['text'].str.replace(element, '')"
   ]
  },
  {
   "cell_type": "code",
   "execution_count": 184,
   "metadata": {},
   "outputs": [],
   "source": [
    "data_clean['text'] = data_clean['text'].replace('', np.nan)"
   ]
  },
  {
   "cell_type": "code",
   "execution_count": 185,
   "metadata": {
    "jupyter": {
     "source_hidden": true
    }
   },
   "outputs": [
    {
     "data": {
      "text/html": [
       "<div>\n",
       "<style scoped>\n",
       "    .dataframe tbody tr th:only-of-type {\n",
       "        vertical-align: middle;\n",
       "    }\n",
       "\n",
       "    .dataframe tbody tr th {\n",
       "        vertical-align: top;\n",
       "    }\n",
       "\n",
       "    .dataframe thead th {\n",
       "        text-align: right;\n",
       "    }\n",
       "</style>\n",
       "<table border=\"1\" class=\"dataframe\">\n",
       "  <thead>\n",
       "    <tr style=\"text-align: right;\">\n",
       "      <th></th>\n",
       "      <th>sender</th>\n",
       "      <th>time_diff</th>\n",
       "      <th>text</th>\n",
       "      <th>date</th>\n",
       "    </tr>\n",
       "  </thead>\n",
       "  <tbody>\n",
       "    <tr>\n",
       "      <th>0</th>\n",
       "      <td>-1001345643242.0</td>\n",
       "      <td>0</td>\n",
       "      <td>beim kauf 9 € städte reisen</td>\n",
       "      <td>2022-06-01 21:42:14</td>\n",
       "    </tr>\n",
       "    <tr>\n",
       "      <th>1</th>\n",
       "      <td>-1001345643242.0</td>\n",
       "      <td>1</td>\n",
       "      <td>ok danke</td>\n",
       "      <td>2022-06-01 21:58:49</td>\n",
       "    </tr>\n",
       "    <tr>\n",
       "      <th>2</th>\n",
       "      <td>-1001570966831.0</td>\n",
       "      <td>1</td>\n",
       "      <td>kontis mehringdamm weiß nich schon sorry   gle...</td>\n",
       "      <td>2022-03-03 16:41:36</td>\n",
       "    </tr>\n",
       "    <tr>\n",
       "      <th>3</th>\n",
       "      <td>-1001570966831.0</td>\n",
       "      <td>2</td>\n",
       "      <td>kontis moritzplatz</td>\n",
       "      <td>2022-03-10 14:38:26</td>\n",
       "    </tr>\n",
       "    <tr>\n",
       "      <th>4</th>\n",
       "      <td>-1001570966831.0</td>\n",
       "      <td>3</td>\n",
       "      <td>ganz viele kontis kotti bahn rum blauen</td>\n",
       "      <td>2022-03-21 08:53:11</td>\n",
       "    </tr>\n",
       "  </tbody>\n",
       "</table>\n",
       "</div>"
      ],
      "text/plain": [
       "             sender  time_diff  \\\n",
       "0  -1001345643242.0          0   \n",
       "1  -1001345643242.0          1   \n",
       "2  -1001570966831.0          1   \n",
       "3  -1001570966831.0          2   \n",
       "4  -1001570966831.0          3   \n",
       "\n",
       "                                                text                date  \n",
       "0                       beim kauf 9 € städte reisen  2022-06-01 21:42:14  \n",
       "1                                           ok danke 2022-06-01 21:58:49  \n",
       "2  kontis mehringdamm weiß nich schon sorry   gle... 2022-03-03 16:41:36  \n",
       "3                                 kontis moritzplatz 2022-03-10 14:38:26  \n",
       "4            ganz viele kontis kotti bahn rum blauen 2022-03-21 08:53:11  "
      ]
     },
     "execution_count": 185,
     "metadata": {},
     "output_type": "execute_result"
    }
   ],
   "source": [
    "data_clean.head()"
   ]
  },
  {
   "cell_type": "code",
   "execution_count": 186,
   "metadata": {},
   "outputs": [],
   "source": [
    "data_clean['text'] = data_clean['text'].str.strip()"
   ]
  },
  {
   "cell_type": "code",
   "execution_count": 187,
   "metadata": {},
   "outputs": [],
   "source": [
    "data_clean.dropna(subset='text', inplace=True)"
   ]
  },
  {
   "cell_type": "code",
   "execution_count": 188,
   "metadata": {},
   "outputs": [
    {
     "data": {
      "text/plain": [
       "147039"
      ]
     },
     "execution_count": 188,
     "metadata": {},
     "output_type": "execute_result"
    }
   ],
   "source": [
    "len(data_clean)"
   ]
  },
  {
   "cell_type": "code",
   "execution_count": 189,
   "metadata": {},
   "outputs": [],
   "source": [
    "data_clean = data_clean.drop_duplicates(subset='text')"
   ]
  },
  {
   "cell_type": "code",
   "execution_count": 190,
   "metadata": {},
   "outputs": [],
   "source": [
    "data_clean = data_clean[data_clean['text'] != '']"
   ]
  },
  {
   "cell_type": "code",
   "execution_count": 191,
   "metadata": {},
   "outputs": [],
   "source": [
    "data_clean.dropna(subset='text', inplace=True)"
   ]
  },
  {
   "cell_type": "code",
   "execution_count": 192,
   "metadata": {},
   "outputs": [
    {
     "data": {
      "text/plain": [
       "137656"
      ]
     },
     "execution_count": 192,
     "metadata": {},
     "output_type": "execute_result"
    }
   ],
   "source": [
    "len(data_clean)"
   ]
  },
  {
   "cell_type": "code",
   "execution_count": 193,
   "metadata": {},
   "outputs": [],
   "source": [
    "data_clean['text'] = data_clean['text'].str.replace('ß', 'ss')\n",
    "data_clean['text'] = data_clean['text'].str.replace('ä', 'ae')\n",
    "data_clean['text'] = data_clean['text'].str.replace('ö', 'oe')\n",
    "data_clean['text'] = data_clean['text'].str.replace('ü', 'ue')"
   ]
  },
  {
   "cell_type": "code",
   "execution_count": 194,
   "metadata": {},
   "outputs": [],
   "source": [
    "data_clean = data_clean.sort_values(by=['date', 'sender'])"
   ]
  },
  {
   "cell_type": "code",
   "execution_count": 195,
   "metadata": {},
   "outputs": [
    {
     "name": "stdout",
     "output_type": "stream",
     "text": [
      "richtung: 44773\n",
      "2: 27904\n",
      "u8: 16983\n",
      "gerade: 14394\n",
      "3: 12134\n",
      "1: 11493\n",
      "u7: 9610\n",
      "s: 9240\n",
      "zwei: 9197\n",
      "u6: 8484\n",
      "raus: 8131\n",
      "platz: 6976\n",
      "kontrolle: 6837\n",
      "u9: 6554\n",
      "u: 6427\n",
      "str: 6070\n",
      "gleis: 6026\n",
      "maenner: 5743\n",
      "nach: 5654\n",
      "bahnsteig: 5235\n",
      "s42: 5211\n",
      "kontrolleure: 5180\n",
      "s41: 5154\n",
      "strasse: 5097\n",
      "allee: 5073\n",
      "m: 4995\n",
      "u5: 4836\n",
      "tor: 4686\n",
      "4: 4665\n",
      "personen: 4553\n",
      "frau: 4469\n",
      "u2: 4386\n",
      "von: 4366\n",
      "gleich: 4162\n",
      "alex: 4055\n",
      "spandau: 4051\n",
      "warschauer: 3941\n",
      "beide: 3924\n",
      "wittenau: 3801\n",
      "blauwesten: 3695\n",
      "person: 3682\n",
      "typen: 3669\n",
      "cap: 3605\n",
      "jeans: 3594\n",
      "bahn: 3569\n",
      "bvg: 3381\n",
      "mann: 3370\n",
      "rathaus: 3363\n",
      "s7: 3321\n",
      "schwarzer: 3321\n",
      "tempelhof: 3310\n",
      "frankfurter: 3304\n",
      "bei: 3268\n",
      "at: 3185\n",
      "and: 2897\n",
      "grad: 2871\n",
      "leute: 2760\n",
      "hermannplatz: 2760\n",
      "osloer: 2733\n",
      "blauen: 2712\n",
      "s1: 2711\n",
      "hermannstrasse: 2701\n",
      "grade: 2689\n",
      "u1: 2685\n",
      "bitte: 2674\n",
      "alt: 2666\n",
      "alexanderplatz: 2615\n",
      "kontis: 2508\n",
      "m10: 2504\n",
      "hermannstr: 2468\n",
      "to: 2466\n",
      "rudow: 2460\n",
      "bahnhof: 2446\n",
      "ostkreuz: 2445\n",
      "1x: 2439\n",
      "friedrichstrasse: 2399\n",
      "neukoelln: 2381\n",
      "drei: 2359\n",
      "ringbahn: 2339\n",
      "a: 2325\n",
      "gekleidet: 2320\n",
      "kontrollieren: 2313\n",
      "fahren: 2302\n",
      "maennl: 2296\n",
      "kotti: 2280\n",
      "landsberger: 2270\n",
      "2x: 2269\n",
      "ring: 2257\n",
      "gesundbrunnen: 2235\n",
      "hose: 2233\n",
      "hauptbahnhof: 2227\n",
      "s5: 2211\n",
      "s3: 2185\n",
      "blue: 2180\n",
      "station: 2163\n",
      "polizei: 2151\n",
      "dunkle: 2137\n",
      "greifswalder: 2133\n",
      "hbf: 2126\n",
      "black: 2126\n"
     ]
    }
   ],
   "source": [
    "# Concatenate all sentences into a single string\n",
    "all_sentences = ' '.join(data_clean['text'])\n",
    "\n",
    "# Tokenize the concatenated string into words\n",
    "words = all_sentences.split()\n",
    "\n",
    "# Count the occurrences of each word\n",
    "word_counts = Counter(words)\n",
    "\n",
    "# Sort the words by their occurrences in descending order\n",
    "sorted_words = sorted(word_counts.items(), key=lambda x: x[1], reverse=True)\n",
    "\n",
    "# Print the top 100 words\n",
    "for word, count in sorted_words[:100]:\n",
    "    print(f'{word}: {count}')"
   ]
  },
  {
   "cell_type": "code",
   "execution_count": 196,
   "metadata": {},
   "outputs": [
    {
     "data": {
      "text/html": [
       "<div>\n",
       "<style scoped>\n",
       "    .dataframe tbody tr th:only-of-type {\n",
       "        vertical-align: middle;\n",
       "    }\n",
       "\n",
       "    .dataframe tbody tr th {\n",
       "        vertical-align: top;\n",
       "    }\n",
       "\n",
       "    .dataframe thead th {\n",
       "        text-align: right;\n",
       "    }\n",
       "</style>\n",
       "<table border=\"1\" class=\"dataframe\">\n",
       "  <thead>\n",
       "    <tr style=\"text-align: right;\">\n",
       "      <th></th>\n",
       "      <th>sender</th>\n",
       "      <th>time_diff</th>\n",
       "      <th>text</th>\n",
       "      <th>date</th>\n",
       "    </tr>\n",
       "  </thead>\n",
       "  <tbody>\n",
       "    <tr>\n",
       "      <th>56130</th>\n",
       "      <td>283284722.0</td>\n",
       "      <td>47821</td>\n",
       "      <td>hae</td>\n",
       "      <td>2018-02-15 11:14:10</td>\n",
       "    </tr>\n",
       "    <tr>\n",
       "      <th>45427</th>\n",
       "      <td>21995695.0</td>\n",
       "      <td>38280</td>\n",
       "      <td>yes aehnliches schon</td>\n",
       "      <td>2018-02-15 11:26:54</td>\n",
       "    </tr>\n",
       "    <tr>\n",
       "      <th>84475</th>\n",
       "      <td>462810467.0</td>\n",
       "      <td>73226</td>\n",
       "      <td>kanns losgehen</td>\n",
       "      <td>2018-02-15 11:29:46</td>\n",
       "    </tr>\n",
       "    <tr>\n",
       "      <th>51061</th>\n",
       "      <td>259910222.0</td>\n",
       "      <td>43255</td>\n",
       "      <td>fahr eigentlich immer schwerbehinderten ausweis</td>\n",
       "      <td>2018-02-15 11:31:44</td>\n",
       "    </tr>\n",
       "    <tr>\n",
       "      <th>87661</th>\n",
       "      <td>489941084.0</td>\n",
       "      <td>75998</td>\n",
       "      <td>danke fur einladung</td>\n",
       "      <td>2018-02-15 11:54:57</td>\n",
       "    </tr>\n",
       "  </tbody>\n",
       "</table>\n",
       "</div>"
      ],
      "text/plain": [
       "            sender  time_diff  \\\n",
       "56130  283284722.0      47821   \n",
       "45427   21995695.0      38280   \n",
       "84475  462810467.0      73226   \n",
       "51061  259910222.0      43255   \n",
       "87661  489941084.0      75998   \n",
       "\n",
       "                                                  text                date  \n",
       "56130                                              hae 2018-02-15 11:14:10  \n",
       "45427                             yes aehnliches schon 2018-02-15 11:26:54  \n",
       "84475                                   kanns losgehen 2018-02-15 11:29:46  \n",
       "51061  fahr eigentlich immer schwerbehinderten ausweis 2018-02-15 11:31:44  \n",
       "87661                              danke fur einladung 2018-02-15 11:54:57  "
      ]
     },
     "execution_count": 196,
     "metadata": {},
     "output_type": "execute_result"
    }
   ],
   "source": [
    "data_clean.head()"
   ]
  },
  {
   "cell_type": "code",
   "execution_count": 197,
   "metadata": {},
   "outputs": [
    {
     "data": {
      "text/html": [
       "<div>\n",
       "<style scoped>\n",
       "    .dataframe tbody tr th:only-of-type {\n",
       "        vertical-align: middle;\n",
       "    }\n",
       "\n",
       "    .dataframe tbody tr th {\n",
       "        vertical-align: top;\n",
       "    }\n",
       "\n",
       "    .dataframe thead th {\n",
       "        text-align: right;\n",
       "    }\n",
       "</style>\n",
       "<table border=\"1\" class=\"dataframe\">\n",
       "  <thead>\n",
       "    <tr style=\"text-align: right;\">\n",
       "      <th></th>\n",
       "      <th>sender</th>\n",
       "      <th>text</th>\n",
       "      <th>date</th>\n",
       "    </tr>\n",
       "  </thead>\n",
       "  <tbody>\n",
       "    <tr>\n",
       "      <th>56130</th>\n",
       "      <td>283284722.0</td>\n",
       "      <td>hae</td>\n",
       "      <td>2018-02-15 11:14:10</td>\n",
       "    </tr>\n",
       "    <tr>\n",
       "      <th>45427</th>\n",
       "      <td>21995695.0</td>\n",
       "      <td>yes aehnliches schon</td>\n",
       "      <td>2018-02-15 11:26:54</td>\n",
       "    </tr>\n",
       "    <tr>\n",
       "      <th>84475</th>\n",
       "      <td>462810467.0</td>\n",
       "      <td>kanns losgehen</td>\n",
       "      <td>2018-02-15 11:29:46</td>\n",
       "    </tr>\n",
       "    <tr>\n",
       "      <th>51061</th>\n",
       "      <td>259910222.0</td>\n",
       "      <td>fahr eigentlich immer schwerbehinderten ausweis</td>\n",
       "      <td>2018-02-15 11:31:44</td>\n",
       "    </tr>\n",
       "    <tr>\n",
       "      <th>87661</th>\n",
       "      <td>489941084.0</td>\n",
       "      <td>danke fur einladung</td>\n",
       "      <td>2018-02-15 11:54:57</td>\n",
       "    </tr>\n",
       "    <tr>\n",
       "      <th>...</th>\n",
       "      <td>...</td>\n",
       "      <td>...</td>\n",
       "      <td>...</td>\n",
       "    </tr>\n",
       "    <tr>\n",
       "      <th>75869</th>\n",
       "      <td>409237588.0</td>\n",
       "      <td>normal kotti</td>\n",
       "      <td>2018-02-22 20:35:37</td>\n",
       "    </tr>\n",
       "    <tr>\n",
       "      <th>45596</th>\n",
       "      <td>220412550.0</td>\n",
       "      <td>mehr  verteilen halt gleichmaessig tuerhoehe</td>\n",
       "      <td>2018-02-22 20:36:33</td>\n",
       "    </tr>\n",
       "    <tr>\n",
       "      <th>93324</th>\n",
       "      <td>523929370.0</td>\n",
       "      <td>u1 richtung warschauer gleich goerlitzer bhf 2...</td>\n",
       "      <td>2018-02-23 08:42:50</td>\n",
       "    </tr>\n",
       "    <tr>\n",
       "      <th>39565</th>\n",
       "      <td>195727113.0</td>\n",
       "      <td>grosskontrolle moritzplatz</td>\n",
       "      <td>2018-02-23 11:07:07</td>\n",
       "    </tr>\n",
       "    <tr>\n",
       "      <th>59475</th>\n",
       "      <td>302346794.0</td>\n",
       "      <td>s 3 nach erkner 2 kontrollettis grad bei wuhlh...</td>\n",
       "      <td>2018-02-23 12:22:12</td>\n",
       "    </tr>\n",
       "  </tbody>\n",
       "</table>\n",
       "<p>100 rows × 3 columns</p>\n",
       "</div>"
      ],
      "text/plain": [
       "            sender                                               text  \\\n",
       "56130  283284722.0                                                hae   \n",
       "45427   21995695.0                               yes aehnliches schon   \n",
       "84475  462810467.0                                     kanns losgehen   \n",
       "51061  259910222.0    fahr eigentlich immer schwerbehinderten ausweis   \n",
       "87661  489941084.0                                danke fur einladung   \n",
       "...            ...                                                ...   \n",
       "75869  409237588.0                                       normal kotti   \n",
       "45596  220412550.0       mehr  verteilen halt gleichmaessig tuerhoehe   \n",
       "93324  523929370.0  u1 richtung warschauer gleich goerlitzer bhf 2...   \n",
       "39565  195727113.0                         grosskontrolle moritzplatz   \n",
       "59475  302346794.0  s 3 nach erkner 2 kontrollettis grad bei wuhlh...   \n",
       "\n",
       "                     date  \n",
       "56130 2018-02-15 11:14:10  \n",
       "45427 2018-02-15 11:26:54  \n",
       "84475 2018-02-15 11:29:46  \n",
       "51061 2018-02-15 11:31:44  \n",
       "87661 2018-02-15 11:54:57  \n",
       "...                   ...  \n",
       "75869 2018-02-22 20:35:37  \n",
       "45596 2018-02-22 20:36:33  \n",
       "93324 2018-02-23 08:42:50  \n",
       "39565 2018-02-23 11:07:07  \n",
       "59475 2018-02-23 12:22:12  \n",
       "\n",
       "[100 rows x 3 columns]"
      ]
     },
     "execution_count": 197,
     "metadata": {},
     "output_type": "execute_result"
    }
   ],
   "source": [
    "data_handover = data_clean.drop('time_diff', axis=1)\n",
    "data_handover.head(100)"
   ]
  },
  {
   "cell_type": "code",
   "execution_count": 198,
   "metadata": {},
   "outputs": [],
   "source": [
    "data_handover.to_csv('data_handover_for_team.csv')"
   ]
  },
  {
   "cell_type": "code",
   "execution_count": 199,
   "metadata": {},
   "outputs": [
    {
     "data": {
      "text/html": [
       "<div>\n",
       "<style scoped>\n",
       "    .dataframe tbody tr th:only-of-type {\n",
       "        vertical-align: middle;\n",
       "    }\n",
       "\n",
       "    .dataframe tbody tr th {\n",
       "        vertical-align: top;\n",
       "    }\n",
       "\n",
       "    .dataframe thead th {\n",
       "        text-align: right;\n",
       "    }\n",
       "</style>\n",
       "<table border=\"1\" class=\"dataframe\">\n",
       "  <thead>\n",
       "    <tr style=\"text-align: right;\">\n",
       "      <th></th>\n",
       "      <th>sender</th>\n",
       "      <th>text</th>\n",
       "      <th>date</th>\n",
       "    </tr>\n",
       "  </thead>\n",
       "  <tbody>\n",
       "    <tr>\n",
       "      <th>56130</th>\n",
       "      <td>283284722.0</td>\n",
       "      <td>hae</td>\n",
       "      <td>2018-02-15 11:14:10</td>\n",
       "    </tr>\n",
       "    <tr>\n",
       "      <th>45427</th>\n",
       "      <td>21995695.0</td>\n",
       "      <td>yes aehnliches schon</td>\n",
       "      <td>2018-02-15 11:26:54</td>\n",
       "    </tr>\n",
       "    <tr>\n",
       "      <th>84475</th>\n",
       "      <td>462810467.0</td>\n",
       "      <td>kanns losgehen</td>\n",
       "      <td>2018-02-15 11:29:46</td>\n",
       "    </tr>\n",
       "    <tr>\n",
       "      <th>51061</th>\n",
       "      <td>259910222.0</td>\n",
       "      <td>fahr eigentlich immer schwerbehinderten ausweis</td>\n",
       "      <td>2018-02-15 11:31:44</td>\n",
       "    </tr>\n",
       "    <tr>\n",
       "      <th>87661</th>\n",
       "      <td>489941084.0</td>\n",
       "      <td>danke fur einladung</td>\n",
       "      <td>2018-02-15 11:54:57</td>\n",
       "    </tr>\n",
       "  </tbody>\n",
       "</table>\n",
       "</div>"
      ],
      "text/plain": [
       "            sender                                             text  \\\n",
       "56130  283284722.0                                              hae   \n",
       "45427   21995695.0                             yes aehnliches schon   \n",
       "84475  462810467.0                                   kanns losgehen   \n",
       "51061  259910222.0  fahr eigentlich immer schwerbehinderten ausweis   \n",
       "87661  489941084.0                              danke fur einladung   \n",
       "\n",
       "                     date  \n",
       "56130 2018-02-15 11:14:10  \n",
       "45427 2018-02-15 11:26:54  \n",
       "84475 2018-02-15 11:29:46  \n",
       "51061 2018-02-15 11:31:44  \n",
       "87661 2018-02-15 11:54:57  "
      ]
     },
     "execution_count": 199,
     "metadata": {},
     "output_type": "execute_result"
    }
   ],
   "source": [
    "data_handover.head()"
   ]
  },
  {
   "cell_type": "code",
   "execution_count": null,
   "metadata": {},
   "outputs": [],
   "source": []
  }
 ],
 "metadata": {
  "kernelspec": {
   "display_name": "Python 3 (ipykernel)",
   "language": "python",
   "name": "python3"
  },
  "language_info": {
   "codemirror_mode": {
    "name": "ipython",
    "version": 3
   },
   "file_extension": ".py",
   "mimetype": "text/x-python",
   "name": "python",
   "nbconvert_exporter": "python",
   "pygments_lexer": "ipython3",
   "version": "3.10.6"
  },
  "toc": {
   "base_numbering": 1,
   "nav_menu": {},
   "number_sections": true,
   "sideBar": true,
   "skip_h1_title": false,
   "title_cell": "Table of Contents",
   "title_sidebar": "Contents",
   "toc_cell": false,
   "toc_position": {},
   "toc_section_display": true,
   "toc_window_display": false
  }
 },
 "nbformat": 4,
 "nbformat_minor": 4
}
