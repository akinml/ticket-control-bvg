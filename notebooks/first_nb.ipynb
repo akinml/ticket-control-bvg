{
 "cells": [
  {
   "cell_type": "code",
   "execution_count": 1,
   "metadata": {},
   "outputs": [],
   "source": [
    "import matplotlib.pyplot as plt\n",
    "import pandas as pd\n",
    "import numpy as np\n",
    "import scipy\n",
    "\n",
    "\n",
    "from statsmodels.tsa.stattools import acf, pacf\n",
    "from statsmodels.graphics.tsaplots import plot_acf, plot_pacf"
   ]
  },
  {
   "cell_type": "code",
   "execution_count": 2,
   "metadata": {},
   "outputs": [],
   "source": [
    "# Load your existing database into a DataFrame\n",
    "data = pd.read_csv(\"data/data_2018_08.2023.csv\")  # Replace with the path to your database file\n",
    "# Notice the .copy() to copy the values \n",
    "data = data.copy()"
   ]
  },
  {
   "cell_type": "code",
   "execution_count": 3,
   "metadata": {},
   "outputs": [
    {
     "data": {
      "text/html": [
       "<div>\n",
       "<style scoped>\n",
       "    .dataframe tbody tr th:only-of-type {\n",
       "        vertical-align: middle;\n",
       "    }\n",
       "\n",
       "    .dataframe tbody tr th {\n",
       "        vertical-align: top;\n",
       "    }\n",
       "\n",
       "    .dataframe thead th {\n",
       "        text-align: right;\n",
       "    }\n",
       "</style>\n",
       "<table border=\"1\" class=\"dataframe\">\n",
       "  <thead>\n",
       "    <tr style=\"text-align: right;\">\n",
       "      <th></th>\n",
       "      <th>group</th>\n",
       "      <th>sender</th>\n",
       "      <th>text</th>\n",
       "      <th>date</th>\n",
       "    </tr>\n",
       "  </thead>\n",
       "  <tbody>\n",
       "    <tr>\n",
       "      <th>251277</th>\n",
       "      <td>freifahren_BE</td>\n",
       "      <td>5.608908e+08</td>\n",
       "      <td>Gehört eigentlich mindestens bos gemeldet...\\n...</td>\n",
       "      <td>2023-08-18 12:41:15</td>\n",
       "    </tr>\n",
       "    <tr>\n",
       "      <th>251278</th>\n",
       "      <td>freifahren_BE</td>\n",
       "      <td>7.268913e+08</td>\n",
       "      <td>**3 boss **S Rathaus Spandau</td>\n",
       "      <td>2023-08-18 12:46:51</td>\n",
       "    </tr>\n",
       "    <tr>\n",
       "      <th>251279</th>\n",
       "      <td>freifahren_BE</td>\n",
       "      <td>5.535547e+09</td>\n",
       "      <td>U7 Rudow, steigen gerade bei mehringdamm ein</td>\n",
       "      <td>2023-08-18 12:56:43</td>\n",
       "    </tr>\n",
       "  </tbody>\n",
       "</table>\n",
       "</div>"
      ],
      "text/plain": [
       "                group        sender  \\\n",
       "251277  freifahren_BE  5.608908e+08   \n",
       "251278  freifahren_BE  7.268913e+08   \n",
       "251279  freifahren_BE  5.535547e+09   \n",
       "\n",
       "                                                     text                 date  \n",
       "251277  Gehört eigentlich mindestens bos gemeldet...\\n...  2023-08-18 12:41:15  \n",
       "251278                       **3 boss **S Rathaus Spandau  2023-08-18 12:46:51  \n",
       "251279       U7 Rudow, steigen gerade bei mehringdamm ein  2023-08-18 12:56:43  "
      ]
     },
     "execution_count": 3,
     "metadata": {},
     "output_type": "execute_result"
    }
   ],
   "source": [
    "data.tail(3)\n",
    "\n",
    "# To DO >>>\n",
    "# de-emojify\n",
    "# (done) drop lines with text = NaN\n",
    "# concatinate text if same sender and similar time stamp\n",
    "# stopwords\n",
    "\n",
    "# create a dictionary with all BVG stations\n",
    "# scrape https://www.bvg.de/de/verbindungen/stationsuebersicht ???\n",
    "\n",
    "\n",
    "## Features:\n",
    "# Line?\n",
    "# Neighbourhood\n",
    "# type of transport\n",
    "# time of the day\n",
    "# time of the month\n",
    "# time of the year\n",
    "\n",
    "# check another model where thy model the movement\n",
    "\n",
    "\n",
    "# descriprive?\n",
    "# predictive?\n",
    "\n",
    "# bramian motion\n",
    "\n",
    "# movement of fire\n",
    "\n",
    "# movement of particles in the path?\n",
    "# modelling it with the neural network\n",
    "# diffusion models\n",
    "\n",
    "\n",
    "# backup > heatmap of the findings\n",
    "# dashboard / analysis of data\n",
    "# probability model!\n",
    "\n"
   ]
  },
  {
   "cell_type": "markdown",
   "metadata": {},
   "source": [
    "## Cleaning the dataset > Emojis, Dropping & Datetime"
   ]
  },
  {
   "cell_type": "code",
   "execution_count": 4,
   "metadata": {
    "scrolled": true
   },
   "outputs": [
    {
     "data": {
      "text/plain": [
       "4.459087e+08    2241\n",
       "3.708941e+08    1113\n",
       "1.334822e+08     859\n",
       "2.626739e+08     637\n",
       "5.794010e+08     434\n",
       "                ... \n",
       "1.027824e+09       1\n",
       "9.530096e+08       1\n",
       "6.359073e+08       1\n",
       "5.806986e+07       1\n",
       "6.577251e+09       1\n",
       "Name: sender, Length: 28930, dtype: int64"
      ]
     },
     "execution_count": 4,
     "metadata": {},
     "output_type": "execute_result"
    }
   ],
   "source": [
    "data[\"sender\"].value_counts()"
   ]
  },
  {
   "cell_type": "code",
   "execution_count": 5,
   "metadata": {},
   "outputs": [
    {
     "data": {
      "text/plain": [
       "freifahren_BE    251280\n",
       "Name: group, dtype: int64"
      ]
     },
     "execution_count": 5,
     "metadata": {},
     "output_type": "execute_result"
    }
   ],
   "source": [
    "data[\"group\"].value_counts()"
   ]
  },
  {
   "cell_type": "code",
   "execution_count": 6,
   "metadata": {},
   "outputs": [
    {
     "data": {
      "text/plain": [
       "251280"
      ]
     },
     "execution_count": 6,
     "metadata": {},
     "output_type": "execute_result"
    }
   ],
   "source": [
    "len(data)"
   ]
  },
  {
   "cell_type": "code",
   "execution_count": 7,
   "metadata": {
    "scrolled": true
   },
   "outputs": [
    {
     "name": "stdout",
     "output_type": "stream",
     "text": [
      "<class 'pandas.core.frame.DataFrame'>\n",
      "RangeIndex: 251280 entries, 0 to 251279\n",
      "Data columns (total 4 columns):\n",
      " #   Column  Non-Null Count   Dtype  \n",
      "---  ------  --------------   -----  \n",
      " 0   group   251280 non-null  object \n",
      " 1   sender  251279 non-null  float64\n",
      " 2   text    206853 non-null  object \n",
      " 3   date    251280 non-null  object \n",
      "dtypes: float64(1), object(3)\n",
      "memory usage: 7.7+ MB\n"
     ]
    }
   ],
   "source": [
    "data.info()"
   ]
  },
  {
   "cell_type": "code",
   "execution_count": 8,
   "metadata": {},
   "outputs": [
    {
     "data": {
      "text/html": [
       "<div>\n",
       "<style scoped>\n",
       "    .dataframe tbody tr th:only-of-type {\n",
       "        vertical-align: middle;\n",
       "    }\n",
       "\n",
       "    .dataframe tbody tr th {\n",
       "        vertical-align: top;\n",
       "    }\n",
       "\n",
       "    .dataframe thead th {\n",
       "        text-align: right;\n",
       "    }\n",
       "</style>\n",
       "<table border=\"1\" class=\"dataframe\">\n",
       "  <thead>\n",
       "    <tr style=\"text-align: right;\">\n",
       "      <th></th>\n",
       "      <th>sender</th>\n",
       "    </tr>\n",
       "  </thead>\n",
       "  <tbody>\n",
       "    <tr>\n",
       "      <th>count</th>\n",
       "      <td>2.512790e+05</td>\n",
       "    </tr>\n",
       "    <tr>\n",
       "      <th>mean</th>\n",
       "      <td>6.610125e+08</td>\n",
       "    </tr>\n",
       "    <tr>\n",
       "      <th>std</th>\n",
       "      <td>9.420384e+09</td>\n",
       "    </tr>\n",
       "    <tr>\n",
       "      <th>min</th>\n",
       "      <td>-1.001693e+12</td>\n",
       "    </tr>\n",
       "    <tr>\n",
       "      <th>25%</th>\n",
       "      <td>2.790832e+08</td>\n",
       "    </tr>\n",
       "    <tr>\n",
       "      <th>50%</th>\n",
       "      <td>5.541413e+08</td>\n",
       "    </tr>\n",
       "    <tr>\n",
       "      <th>75%</th>\n",
       "      <td>9.074052e+08</td>\n",
       "    </tr>\n",
       "    <tr>\n",
       "      <th>max</th>\n",
       "      <td>6.652919e+09</td>\n",
       "    </tr>\n",
       "  </tbody>\n",
       "</table>\n",
       "</div>"
      ],
      "text/plain": [
       "             sender\n",
       "count  2.512790e+05\n",
       "mean   6.610125e+08\n",
       "std    9.420384e+09\n",
       "min   -1.001693e+12\n",
       "25%    2.790832e+08\n",
       "50%    5.541413e+08\n",
       "75%    9.074052e+08\n",
       "max    6.652919e+09"
      ]
     },
     "execution_count": 8,
     "metadata": {},
     "output_type": "execute_result"
    }
   ],
   "source": [
    "data.describe() ### applicable only to the sender ID, does not make sense"
   ]
  },
  {
   "cell_type": "markdown",
   "metadata": {},
   "source": [
    "### Date > Datetime Format"
   ]
  },
  {
   "cell_type": "code",
   "execution_count": 9,
   "metadata": {
    "scrolled": true
   },
   "outputs": [
    {
     "name": "stdout",
     "output_type": "stream",
     "text": [
      "<class 'pandas.core.frame.DataFrame'>\n",
      "RangeIndex: 251280 entries, 0 to 251279\n",
      "Data columns (total 4 columns):\n",
      " #   Column  Non-Null Count   Dtype         \n",
      "---  ------  --------------   -----         \n",
      " 0   group   251280 non-null  object        \n",
      " 1   sender  251279 non-null  float64       \n",
      " 2   text    206853 non-null  object        \n",
      " 3   date    251280 non-null  datetime64[ns]\n",
      "dtypes: datetime64[ns](1), float64(1), object(2)\n",
      "memory usage: 7.7+ MB\n"
     ]
    }
   ],
   "source": [
    "data[\"date\"] = pd.to_datetime(data[\"date\"])\n",
    "data.info()"
   ]
  },
  {
   "cell_type": "code",
   "execution_count": 17,
   "metadata": {},
   "outputs": [
    {
     "data": {
      "text/html": [
       "<div>\n",
       "<style scoped>\n",
       "    .dataframe tbody tr th:only-of-type {\n",
       "        vertical-align: middle;\n",
       "    }\n",
       "\n",
       "    .dataframe tbody tr th {\n",
       "        vertical-align: top;\n",
       "    }\n",
       "\n",
       "    .dataframe thead th {\n",
       "        text-align: right;\n",
       "    }\n",
       "</style>\n",
       "<table border=\"1\" class=\"dataframe\">\n",
       "  <thead>\n",
       "    <tr style=\"text-align: right;\">\n",
       "      <th></th>\n",
       "      <th>text</th>\n",
       "      <th>date</th>\n",
       "    </tr>\n",
       "  </thead>\n",
       "  <tbody>\n",
       "    <tr>\n",
       "      <th>251275</th>\n",
       "      <td>U5 Friedrichsfelde 2x blau Westen männlich gel...</td>\n",
       "      <td>2023-08-18 12:10:31</td>\n",
       "    </tr>\n",
       "    <tr>\n",
       "      <th>251276</th>\n",
       "      <td>U6 mehringdamm station.</td>\n",
       "      <td>2023-08-18 12:36:47</td>\n",
       "    </tr>\n",
       "    <tr>\n",
       "      <th>251277</th>\n",
       "      <td>Gehört eigentlich mindestens bos gemeldet...\\n...</td>\n",
       "      <td>2023-08-18 12:41:15</td>\n",
       "    </tr>\n",
       "    <tr>\n",
       "      <th>251278</th>\n",
       "      <td>**3 boss **S Rathaus Spandau</td>\n",
       "      <td>2023-08-18 12:46:51</td>\n",
       "    </tr>\n",
       "    <tr>\n",
       "      <th>251279</th>\n",
       "      <td>U7 Rudow, steigen gerade bei mehringdamm ein</td>\n",
       "      <td>2023-08-18 12:56:43</td>\n",
       "    </tr>\n",
       "  </tbody>\n",
       "</table>\n",
       "</div>"
      ],
      "text/plain": [
       "                                                     text                date\n",
       "251275  U5 Friedrichsfelde 2x blau Westen männlich gel... 2023-08-18 12:10:31\n",
       "251276                            U6 mehringdamm station. 2023-08-18 12:36:47\n",
       "251277  Gehört eigentlich mindestens bos gemeldet...\\n... 2023-08-18 12:41:15\n",
       "251278                       **3 boss **S Rathaus Spandau 2023-08-18 12:46:51\n",
       "251279       U7 Rudow, steigen gerade bei mehringdamm ein 2023-08-18 12:56:43"
      ]
     },
     "execution_count": 17,
     "metadata": {},
     "output_type": "execute_result"
    }
   ],
   "source": [
    "data[['text', 'date']].tail()"
   ]
  },
  {
   "cell_type": "markdown",
   "metadata": {},
   "source": [
    "### De-Emojify"
   ]
  },
  {
   "cell_type": "code",
   "execution_count": null,
   "metadata": {},
   "outputs": [],
   "source": []
  },
  {
   "cell_type": "markdown",
   "metadata": {},
   "source": [
    "### Drop entries with no text"
   ]
  },
  {
   "cell_type": "code",
   "execution_count": 16,
   "metadata": {},
   "outputs": [],
   "source": [
    "data = data[data['text'].notna()]"
   ]
  },
  {
   "cell_type": "markdown",
   "metadata": {},
   "source": [
    "### Drop duplicates (there were 9 of them)"
   ]
  },
  {
   "cell_type": "code",
   "execution_count": 12,
   "metadata": {},
   "outputs": [
    {
     "data": {
      "text/plain": [
       "9"
      ]
     },
     "execution_count": 12,
     "metadata": {},
     "output_type": "execute_result"
    }
   ],
   "source": [
    "duplicate_count = data.duplicated().sum()\n",
    "duplicate_count ### This is a lot of duplicates"
   ]
  },
  {
   "cell_type": "code",
   "execution_count": 13,
   "metadata": {},
   "outputs": [
    {
     "data": {
      "text/plain": [
       "206844"
      ]
     },
     "execution_count": 13,
     "metadata": {},
     "output_type": "execute_result"
    }
   ],
   "source": [
    "data = data.drop_duplicates()\n",
    "len(data)"
   ]
  },
  {
   "cell_type": "markdown",
   "metadata": {},
   "source": [
    "## Cleaning the dataset > Text Processing"
   ]
  },
  {
   "cell_type": "code",
   "execution_count": 14,
   "metadata": {},
   "outputs": [
    {
     "data": {
      "text/plain": [
       "1                                                        Hä\n",
       "6                                                       YES\n",
       "8                                                     😂😂  😂\n",
       "11                         Da haben wir was ähnliches schon\n",
       "13                                  So jetzt kanns losgehen\n",
       "                                ...                        \n",
       "251275    U5 Friedrichsfelde 2x blau Westen männlich gel...\n",
       "251276                              U6 mehringdamm station.\n",
       "251277    Gehört eigentlich mindestens bos gemeldet...\\n...\n",
       "251278                         **3 boss **S Rathaus Spandau\n",
       "251279         U7 Rudow, steigen gerade bei mehringdamm ein\n",
       "Name: text, Length: 206844, dtype: object"
      ]
     },
     "execution_count": 14,
     "metadata": {},
     "output_type": "execute_result"
    }
   ],
   "source": [
    "data['text'] = data['text'].str.strip()\n",
    "data['text']"
   ]
  },
  {
   "cell_type": "code",
   "execution_count": null,
   "metadata": {},
   "outputs": [],
   "source": []
  },
  {
   "cell_type": "code",
   "execution_count": null,
   "metadata": {},
   "outputs": [],
   "source": []
  },
  {
   "cell_type": "code",
   "execution_count": 9,
   "metadata": {},
   "outputs": [
    {
     "ename": "ValueError",
     "evalue": "Cannot mask with non-boolean array containing NA / NaN values",
     "output_type": "error",
     "traceback": [
      "\u001b[0;31m---------------------------------------------------------------------------\u001b[0m",
      "\u001b[0;31mValueError\u001b[0m                                Traceback (most recent call last)",
      "\u001b[1;32m/Users/annushkak/code/akinml/telegram/play.ipynb Cell 3\u001b[0m in \u001b[0;36m6\n\u001b[1;32m      <a href='vscode-notebook-cell:/Users/annushkak/code/akinml/telegram/play.ipynb#W1sZmlsZQ%3D%3D?line=3'>4</a>\u001b[0m \u001b[39m# Iterate through each target word and filter the data\u001b[39;00m\n\u001b[1;32m      <a href='vscode-notebook-cell:/Users/annushkak/code/akinml/telegram/play.ipynb#W1sZmlsZQ%3D%3D?line=4'>5</a>\u001b[0m \u001b[39mfor\u001b[39;00m word \u001b[39min\u001b[39;00m target_words:\n\u001b[0;32m----> <a href='vscode-notebook-cell:/Users/annushkak/code/akinml/telegram/play.ipynb#W1sZmlsZQ%3D%3D?line=5'>6</a>\u001b[0m     keyword_rows \u001b[39m=\u001b[39m data[data[\u001b[39m'\u001b[39;49m\u001b[39mtext\u001b[39;49m\u001b[39m'\u001b[39;49m]\u001b[39m.\u001b[39;49mstr\u001b[39m.\u001b[39;49mcontains(word)]\n\u001b[1;32m      <a href='vscode-notebook-cell:/Users/annushkak/code/akinml/telegram/play.ipynb#W1sZmlsZQ%3D%3D?line=6'>7</a>\u001b[0m     filtered_data \u001b[39m=\u001b[39m keyword_rows\u001b[39m.\u001b[39mcopy()\n\u001b[1;32m      <a href='vscode-notebook-cell:/Users/annushkak/code/akinml/telegram/play.ipynb#W1sZmlsZQ%3D%3D?line=8'>9</a>\u001b[0m     \u001b[39m# Save the filtered data to a new CSV file\u001b[39;00m\n",
      "File \u001b[0;32m~/.pyenv/versions/3.10.6/envs/lewagon/lib/python3.10/site-packages/pandas/core/frame.py:3495\u001b[0m, in \u001b[0;36mDataFrame.__getitem__\u001b[0;34m(self, key)\u001b[0m\n\u001b[1;32m   3492\u001b[0m     \u001b[39mreturn\u001b[39;00m \u001b[39mself\u001b[39m\u001b[39m.\u001b[39mwhere(key)\n\u001b[1;32m   3494\u001b[0m \u001b[39m# Do we have a (boolean) 1d indexer?\u001b[39;00m\n\u001b[0;32m-> 3495\u001b[0m \u001b[39mif\u001b[39;00m com\u001b[39m.\u001b[39;49mis_bool_indexer(key):\n\u001b[1;32m   3496\u001b[0m     \u001b[39mreturn\u001b[39;00m \u001b[39mself\u001b[39m\u001b[39m.\u001b[39m_getitem_bool_array(key)\n\u001b[1;32m   3498\u001b[0m \u001b[39m# We are left with two options: a single key, and a collection of keys,\u001b[39;00m\n\u001b[1;32m   3499\u001b[0m \u001b[39m# We interpret tuples as collections only for non-MultiIndex\u001b[39;00m\n",
      "File \u001b[0;32m~/.pyenv/versions/3.10.6/envs/lewagon/lib/python3.10/site-packages/pandas/core/common.py:144\u001b[0m, in \u001b[0;36mis_bool_indexer\u001b[0;34m(key)\u001b[0m\n\u001b[1;32m    140\u001b[0m     na_msg \u001b[39m=\u001b[39m \u001b[39m\"\u001b[39m\u001b[39mCannot mask with non-boolean array containing NA / NaN values\u001b[39m\u001b[39m\"\u001b[39m\n\u001b[1;32m    141\u001b[0m     \u001b[39mif\u001b[39;00m lib\u001b[39m.\u001b[39minfer_dtype(key) \u001b[39m==\u001b[39m \u001b[39m\"\u001b[39m\u001b[39mboolean\u001b[39m\u001b[39m\"\u001b[39m \u001b[39mand\u001b[39;00m isna(key)\u001b[39m.\u001b[39many():\n\u001b[1;32m    142\u001b[0m         \u001b[39m# Don't raise on e.g. [\"A\", \"B\", np.nan], see\u001b[39;00m\n\u001b[1;32m    143\u001b[0m         \u001b[39m#  test_loc_getitem_list_of_labels_categoricalindex_with_na\u001b[39;00m\n\u001b[0;32m--> 144\u001b[0m         \u001b[39mraise\u001b[39;00m \u001b[39mValueError\u001b[39;00m(na_msg)\n\u001b[1;32m    145\u001b[0m     \u001b[39mreturn\u001b[39;00m \u001b[39mFalse\u001b[39;00m\n\u001b[1;32m    146\u001b[0m \u001b[39mreturn\u001b[39;00m \u001b[39mTrue\u001b[39;00m\n",
      "\u001b[0;31mValueError\u001b[0m: Cannot mask with non-boolean array containing NA / NaN values"
     ]
    }
   ],
   "source": [
    "\n",
    "# List of words to search for\n",
    "target_words = ['U7', 'U6']  # Add more stations as needed\n",
    "\n",
    "# Iterate through each target word and filter the data\n",
    "for word in target_words:\n",
    "    keyword_rows = data[data['text'].str.contains(word)]\n",
    "    filtered_data = keyword_rows.copy()\n",
    "\n",
    "    # Save the filtered data to a new CSV file\n",
    "    csv_filename = \"filtered_data_{}.csv\".format(word)\n",
    "    filtered_data.to_csv(csv_filename, index=False)\n",
    "    print(\"Filtered data for '{}' saved as: {}\".format(word, csv_filename))"
   ]
  },
  {
   "cell_type": "code",
   "execution_count": null,
   "metadata": {},
   "outputs": [],
   "source": []
  }
 ],
 "metadata": {
  "kernelspec": {
   "display_name": "Python 3 (ipykernel)",
   "language": "python",
   "name": "python3"
  },
  "language_info": {
   "codemirror_mode": {
    "name": "ipython",
    "version": 3
   },
   "file_extension": ".py",
   "mimetype": "text/x-python",
   "name": "python",
   "nbconvert_exporter": "python",
   "pygments_lexer": "ipython3",
   "version": "3.10.6"
  },
  "toc": {
   "base_numbering": 1,
   "nav_menu": {},
   "number_sections": true,
   "sideBar": true,
   "skip_h1_title": false,
   "title_cell": "Table of Contents",
   "title_sidebar": "Contents",
   "toc_cell": false,
   "toc_position": {},
   "toc_section_display": true,
   "toc_window_display": false
  }
 },
 "nbformat": 4,
 "nbformat_minor": 2
}
