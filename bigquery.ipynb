{
 "cells": [
  {
   "cell_type": "code",
   "execution_count": 3,
   "metadata": {},
   "outputs": [
    {
     "ename": "Forbidden",
     "evalue": "403 POST https://bigquery.googleapis.com/bigquery/v2/projects/lewagon-396609/datasets?prettyPrint=false: Access Denied: Project lewagon-396609: User does not have bigquery.datasets.create permission in project lewagon-396609.",
     "output_type": "error",
     "traceback": [
      "\u001b[0;31m---------------------------------------------------------------------------\u001b[0m",
      "\u001b[0;31mForbidden\u001b[0m                                 Traceback (most recent call last)",
      "Cell \u001b[0;32mIn[3], line 14\u001b[0m\n\u001b[1;32m     12\u001b[0m dataset_id \u001b[39m=\u001b[39m \u001b[39m\"\u001b[39m\u001b[39mlewagon-396609.your_dataset_id\u001b[39m\u001b[39m\"\u001b[39m\n\u001b[1;32m     13\u001b[0m dataset \u001b[39m=\u001b[39m bigquery\u001b[39m.\u001b[39mDataset(dataset_id)\n\u001b[0;32m---> 14\u001b[0m client\u001b[39m.\u001b[39;49mcreate_dataset(dataset, exists_ok\u001b[39m=\u001b[39;49m\u001b[39mTrue\u001b[39;49;00m)\n\u001b[1;32m     16\u001b[0m table_id \u001b[39m=\u001b[39m \u001b[39m\"\u001b[39m\u001b[39myour_project_id.your_dataset_id.your_table_id\u001b[39m\u001b[39m\"\u001b[39m\n\u001b[1;32m     17\u001b[0m job_config \u001b[39m=\u001b[39m bigquery\u001b[39m.\u001b[39mLoadJobConfig(schema\u001b[39m=\u001b[39mschema, write_disposition\u001b[39m=\u001b[39m\u001b[39m\"\u001b[39m\u001b[39mWRITE_TRUNCATE\u001b[39m\u001b[39m\"\u001b[39m)\n",
      "File \u001b[0;32m~/.pyenv/versions/3.10.6/envs/bvg-controller/lib/python3.10/site-packages/google/cloud/bigquery/client.py:666\u001b[0m, in \u001b[0;36mClient.create_dataset\u001b[0;34m(self, dataset, exists_ok, retry, timeout)\u001b[0m\n\u001b[1;32m    663\u001b[0m \u001b[39mtry\u001b[39;00m:\n\u001b[1;32m    664\u001b[0m     span_attributes \u001b[39m=\u001b[39m {\u001b[39m\"\u001b[39m\u001b[39mpath\u001b[39m\u001b[39m\"\u001b[39m: path}\n\u001b[0;32m--> 666\u001b[0m     api_response \u001b[39m=\u001b[39m \u001b[39mself\u001b[39;49m\u001b[39m.\u001b[39;49m_call_api(\n\u001b[1;32m    667\u001b[0m         retry,\n\u001b[1;32m    668\u001b[0m         span_name\u001b[39m=\u001b[39;49m\u001b[39m\"\u001b[39;49m\u001b[39mBigQuery.createDataset\u001b[39;49m\u001b[39m\"\u001b[39;49m,\n\u001b[1;32m    669\u001b[0m         span_attributes\u001b[39m=\u001b[39;49mspan_attributes,\n\u001b[1;32m    670\u001b[0m         method\u001b[39m=\u001b[39;49m\u001b[39m\"\u001b[39;49m\u001b[39mPOST\u001b[39;49m\u001b[39m\"\u001b[39;49m,\n\u001b[1;32m    671\u001b[0m         path\u001b[39m=\u001b[39;49mpath,\n\u001b[1;32m    672\u001b[0m         data\u001b[39m=\u001b[39;49mdata,\n\u001b[1;32m    673\u001b[0m         timeout\u001b[39m=\u001b[39;49mtimeout,\n\u001b[1;32m    674\u001b[0m     )\n\u001b[1;32m    675\u001b[0m     \u001b[39mreturn\u001b[39;00m Dataset\u001b[39m.\u001b[39mfrom_api_repr(api_response)\n\u001b[1;32m    676\u001b[0m \u001b[39mexcept\u001b[39;00m core_exceptions\u001b[39m.\u001b[39mConflict:\n",
      "File \u001b[0;32m~/.pyenv/versions/3.10.6/envs/bvg-controller/lib/python3.10/site-packages/google/cloud/bigquery/client.py:816\u001b[0m, in \u001b[0;36mClient._call_api\u001b[0;34m(self, retry, span_name, span_attributes, job_ref, headers, **kwargs)\u001b[0m\n\u001b[1;32m    812\u001b[0m \u001b[39mif\u001b[39;00m span_name \u001b[39mis\u001b[39;00m \u001b[39mnot\u001b[39;00m \u001b[39mNone\u001b[39;00m:\n\u001b[1;32m    813\u001b[0m     \u001b[39mwith\u001b[39;00m create_span(\n\u001b[1;32m    814\u001b[0m         name\u001b[39m=\u001b[39mspan_name, attributes\u001b[39m=\u001b[39mspan_attributes, client\u001b[39m=\u001b[39m\u001b[39mself\u001b[39m, job_ref\u001b[39m=\u001b[39mjob_ref\n\u001b[1;32m    815\u001b[0m     ):\n\u001b[0;32m--> 816\u001b[0m         \u001b[39mreturn\u001b[39;00m call()\n\u001b[1;32m    818\u001b[0m \u001b[39mreturn\u001b[39;00m call()\n",
      "File \u001b[0;32m~/.pyenv/versions/3.10.6/envs/bvg-controller/lib/python3.10/site-packages/google/api_core/retry.py:349\u001b[0m, in \u001b[0;36mRetry.__call__.<locals>.retry_wrapped_func\u001b[0;34m(*args, **kwargs)\u001b[0m\n\u001b[1;32m    345\u001b[0m target \u001b[39m=\u001b[39m functools\u001b[39m.\u001b[39mpartial(func, \u001b[39m*\u001b[39margs, \u001b[39m*\u001b[39m\u001b[39m*\u001b[39mkwargs)\n\u001b[1;32m    346\u001b[0m sleep_generator \u001b[39m=\u001b[39m exponential_sleep_generator(\n\u001b[1;32m    347\u001b[0m     \u001b[39mself\u001b[39m\u001b[39m.\u001b[39m_initial, \u001b[39mself\u001b[39m\u001b[39m.\u001b[39m_maximum, multiplier\u001b[39m=\u001b[39m\u001b[39mself\u001b[39m\u001b[39m.\u001b[39m_multiplier\n\u001b[1;32m    348\u001b[0m )\n\u001b[0;32m--> 349\u001b[0m \u001b[39mreturn\u001b[39;00m retry_target(\n\u001b[1;32m    350\u001b[0m     target,\n\u001b[1;32m    351\u001b[0m     \u001b[39mself\u001b[39;49m\u001b[39m.\u001b[39;49m_predicate,\n\u001b[1;32m    352\u001b[0m     sleep_generator,\n\u001b[1;32m    353\u001b[0m     \u001b[39mself\u001b[39;49m\u001b[39m.\u001b[39;49m_timeout,\n\u001b[1;32m    354\u001b[0m     on_error\u001b[39m=\u001b[39;49mon_error,\n\u001b[1;32m    355\u001b[0m )\n",
      "File \u001b[0;32m~/.pyenv/versions/3.10.6/envs/bvg-controller/lib/python3.10/site-packages/google/api_core/retry.py:191\u001b[0m, in \u001b[0;36mretry_target\u001b[0;34m(target, predicate, sleep_generator, timeout, on_error, **kwargs)\u001b[0m\n\u001b[1;32m    189\u001b[0m \u001b[39mfor\u001b[39;00m sleep \u001b[39min\u001b[39;00m sleep_generator:\n\u001b[1;32m    190\u001b[0m     \u001b[39mtry\u001b[39;00m:\n\u001b[0;32m--> 191\u001b[0m         \u001b[39mreturn\u001b[39;00m target()\n\u001b[1;32m    193\u001b[0m     \u001b[39m# pylint: disable=broad-except\u001b[39;00m\n\u001b[1;32m    194\u001b[0m     \u001b[39m# This function explicitly must deal with broad exceptions.\u001b[39;00m\n\u001b[1;32m    195\u001b[0m     \u001b[39mexcept\u001b[39;00m \u001b[39mException\u001b[39;00m \u001b[39mas\u001b[39;00m exc:\n",
      "File \u001b[0;32m~/.pyenv/versions/3.10.6/envs/bvg-controller/lib/python3.10/site-packages/google/cloud/_http/__init__.py:494\u001b[0m, in \u001b[0;36mJSONConnection.api_request\u001b[0;34m(self, method, path, query_params, data, content_type, headers, api_base_url, api_version, expect_json, _target_object, timeout, extra_api_info)\u001b[0m\n\u001b[1;32m    482\u001b[0m response \u001b[39m=\u001b[39m \u001b[39mself\u001b[39m\u001b[39m.\u001b[39m_make_request(\n\u001b[1;32m    483\u001b[0m     method\u001b[39m=\u001b[39mmethod,\n\u001b[1;32m    484\u001b[0m     url\u001b[39m=\u001b[39murl,\n\u001b[0;32m   (...)\u001b[0m\n\u001b[1;32m    490\u001b[0m     extra_api_info\u001b[39m=\u001b[39mextra_api_info,\n\u001b[1;32m    491\u001b[0m )\n\u001b[1;32m    493\u001b[0m \u001b[39mif\u001b[39;00m \u001b[39mnot\u001b[39;00m \u001b[39m200\u001b[39m \u001b[39m<\u001b[39m\u001b[39m=\u001b[39m response\u001b[39m.\u001b[39mstatus_code \u001b[39m<\u001b[39m \u001b[39m300\u001b[39m:\n\u001b[0;32m--> 494\u001b[0m     \u001b[39mraise\u001b[39;00m exceptions\u001b[39m.\u001b[39mfrom_http_response(response)\n\u001b[1;32m    496\u001b[0m \u001b[39mif\u001b[39;00m expect_json \u001b[39mand\u001b[39;00m response\u001b[39m.\u001b[39mcontent:\n\u001b[1;32m    497\u001b[0m     \u001b[39mreturn\u001b[39;00m response\u001b[39m.\u001b[39mjson()\n",
      "\u001b[0;31mForbidden\u001b[0m: 403 POST https://bigquery.googleapis.com/bigquery/v2/projects/lewagon-396609/datasets?prettyPrint=false: Access Denied: Project lewagon-396609: User does not have bigquery.datasets.create permission in project lewagon-396609."
     ]
    }
   ],
   "source": [
    "import os\n",
    "from google.cloud import bigquery\n",
    "from pathlib import Path\n",
    "\n",
    "from pipeline import pipeline\n",
    "\n",
    "path_main = Path(__file__).parent.parent\n",
    "path_to_data = path_main / \"data/\"\n",
    "\n",
    "\n",
    "def upload_big_query():\n",
    "    print(\"\\033[1;32m 👷Uploading to BigQuery Started! 👷\\n\")\n",
    "    client = bigquery.Client()\n",
    "    table_id = \"lewagon-396609.telegram.processed\"\n",
    "    job_config = bigquery.LoadJobConfig(\n",
    "        autodetect=True, write_disposition=\"WRITE_TRUNCATE\"\n",
    "    )\n",
    "    data = \n",
    "    job = client.load_table_from_file(data, table_id, job_config=job_config)\n",
    "    job.result()\n",
    "    print(\"\\033[1;32m 👷Uploading to BigQuery Completed! 👷\\n\")\n"
   ]
  },
  {
   "cell_type": "code",
   "execution_count": null,
   "metadata": {},
   "outputs": [],
   "source": [
    "def download_big_query():\n",
    "    print(\"\\033[1;32m 👷Downloading from BigQuery Started! 👷\\n\")\n",
    "    client = bigquery.Client()\n",
    "\n",
    "    # Specify the BigQuery SQL query\n",
    "    query = \"\"\"\n",
    "    SELECT *\n",
    "    FROM `lewagon-396609.telegram.processed`\n",
    "    \"\"\"\n",
    "\n",
    "    # Run the query and fetch the results into a DataFrame\n",
    "    query_job = client.query(query)\n",
    "    results = query_job.result().to_dataframe()\n",
    "\n",
    "    # Save the DataFrame to a local CSV file\n",
    "    results.to_csv(path_to_data + \"/preprocessed_database_telegram.csv\", index=False)\n",
    "    print(\"\\033[1;32m 👷Downloading from BigQuery Completed! 👷\\n\")\n",
    "\n",
    "\n",
    "if __name__ == \"__main__\":\n",
    "    pipeline()\n",
    "    upload_big_query()\n"
   ]
  }
 ],
 "metadata": {
  "kernelspec": {
   "display_name": "bvg-controller",
   "language": "python",
   "name": "python3"
  },
  "language_info": {
   "codemirror_mode": {
    "name": "ipython",
    "version": 3
   },
   "file_extension": ".py",
   "mimetype": "text/x-python",
   "name": "python",
   "nbconvert_exporter": "python",
   "pygments_lexer": "ipython3",
   "version": "3.10.6"
  },
  "orig_nbformat": 4
 },
 "nbformat": 4,
 "nbformat_minor": 2
}
