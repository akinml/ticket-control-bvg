{
 "cells": [
  {
   "cell_type": "code",
   "execution_count": 9,
   "metadata": {},
   "outputs": [],
   "source": [
    "from google.cloud import bigquery\n",
    "import pandas as pd\n",
    "\n",
    "\n",
    "def upload_big_query_raw(df):\n",
    "    print(\"\\033[1;32m 👷Uploading Raw Data to BigQuery Started! 👷\")\n",
    "    client = bigquery.Client()\n",
    "    dataset_id = \"bvg-controller.bvg_test\"\n",
    "    dataset = bigquery.Dataset(dataset_id)\n",
    "    table_id = \"bvg-controller.bvg_test.raw\"\n",
    "    job_config = bigquery.LoadJobConfig(\n",
    "        autodetect=True, write_disposition=\"WRITE_APPEND\"\n",
    "    )\n",
    "    try:\n",
    "        job = client.load_table_from_dataframe(df, table_id, job_config=job_config)\n",
    "        job.result()\n",
    "        print(f\"Data uploaded to table {table_id} successfully!\")\n",
    "    except Exception as e:\n",
    "        print(f\"Error uploading data to BigQuery: {str(e)}\")\n",
    "    print(\"\\033[1;32m 👷Uploading Raw Data to BigQuery Completed! 👷\\n\")"
   ]
  },
  {
   "cell_type": "code",
   "execution_count": 24,
   "metadata": {},
   "outputs": [],
   "source": [
    "import numpy as\n",
    "import pandas as pd\n",
    "from regex import D\n",
    "\n",
    "df = pd.read_csv('data/database_telegram.csv')\n",
    "df = df[['group','sender','text','date']].dropna()\n",
    "df[\"sender\"] = df[\"sender\"].astype(\"int\")\n",
    "df = df.dropna()\n",
    "types = df['sender'].map(lambda x: type(int(x)))\n",
    "df['date'] = pd.to_datetime(df['date'], format=\"mixed\")"
   ]
  },
  {
   "cell_type": "code",
   "execution_count": 61,
   "metadata": {},
   "outputs": [
    {
     "name": "stdout",
     "output_type": "stream",
     "text": [
      "\u001b[1;32m 👷Uploading Raw Data to BigQuery Started! 👷\n",
      "Data uploaded to table bvg-controller.bvg_test.raw successfully!\n",
      "\u001b[1;32m 👷Uploading Raw Data to BigQuery Completed! 👷\n",
      "\n"
     ]
    }
   ],
   "source": [
    "upload_big_query_raw(df)"
   ]
  },
  {
   "cell_type": "code",
   "execution_count": 68,
   "metadata": {},
   "outputs": [
    {
     "ename": "TypeError",
     "evalue": "fuzz_flow() got an unexpected keyword argument 'df_station_mapping'",
     "output_type": "error",
     "traceback": [
      "\u001b[0;31m---------------------------------------------------------------------------\u001b[0m",
      "\u001b[0;31mTypeError\u001b[0m                                 Traceback (most recent call last)",
      "Cell \u001b[0;32mIn[68], line 10\u001b[0m\n\u001b[1;32m      8\u001b[0m df_station_mapping \u001b[39m=\u001b[39m pd\u001b[39m.\u001b[39mread_csv(\u001b[39mstr\u001b[39m(path_to_data) \u001b[39m+\u001b[39m \u001b[39m\"\u001b[39m\u001b[39m/s_u_stations_fixed_with_keys_20230830.csv\u001b[39m\u001b[39m\"\u001b[39m)\u001b[39m.\u001b[39miloc[\u001b[39m0\u001b[39m:\u001b[39m10\u001b[39m]  \u001b[39m# Replace with the path to your database file\u001b[39;00m\n\u001b[1;32m      9\u001b[0m station_df \u001b[39m=\u001b[39m create_station_to_line_df(df_station_mapping\u001b[39m=\u001b[39mdf_station_mapping)\n\u001b[0;32m---> 10\u001b[0m df \u001b[39m=\u001b[39m fuzz_flow(df_station_mapping\u001b[39m=\u001b[39;49mstation_df)\n\u001b[1;32m     11\u001b[0m df\n",
      "\u001b[0;31mTypeError\u001b[0m: fuzz_flow() got an unexpected keyword argument 'df_station_mapping'"
     ]
    }
   ],
   "source": [
    "from ticket_control.fuzz_flow import fuzz_flow\n",
    "from ticket_control.fuzz_flow import create_station_to_line_df\n",
    "from ticket_control.pipeline import pipeline\n",
    "from ticket_control.big_query_download_raw import download_big_query_raw\n",
    "from ticket_control.big_query_upload_processed import upload_big_query_processed\n",
    "from ticket_control.params import path_to_data\n",
    "\n",
    "df_station_mapping = pd.read_csv(str(path_to_data) + \"/s_u_stations_fixed_with_keys_20230830.csv\").iloc[0:10]  # Replace with the path to your database file\n",
    "station_df = create_station_to_line_df(df_station_mapping=df_station_mapping)\n",
    "df = fuzz_flow(station_df)\n",
    "df"
   ]
  }
 ],
 "metadata": {
  "kernelspec": {
   "display_name": "bvg-controller",
   "language": "python",
   "name": "python3"
  },
  "language_info": {
   "codemirror_mode": {
    "name": "ipython",
    "version": 3
   },
   "file_extension": ".py",
   "mimetype": "text/x-python",
   "name": "python",
   "nbconvert_exporter": "python",
   "pygments_lexer": "ipython3",
   "version": "3.10.6"
  },
  "orig_nbformat": 4
 },
 "nbformat": 4,
 "nbformat_minor": 2
}
