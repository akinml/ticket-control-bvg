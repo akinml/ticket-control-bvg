{
 "cells": [
  {
   "cell_type": "code",
   "execution_count": null,
   "metadata": {},
   "outputs": [],
   "source": [
    "from prefect import flow\n",
    "from telethon.sync import TelegramClient\n",
    "import datetime\n",
    "import pandas as pd\n",
    "import asyncio\n",
    "\n",
    "\n",
    "def get_update():\n",
    "    \"\"\"This function gets the newest data from the telegram Channel and saves it to our database.\"\"\"\n",
    "    print(\"\\033[1;32m 💽 Telegramm update started 💽\")\n",
    "\n",
    "    api_id = 24420176\n",
    "    api_hash = \"9350869041f1e13cb10ecadcb8331367\"\n",
    "    save_df = pd.DataFrame()\n",
    "\n",
    "    chats = [\"freifahren_BE\"]\n",
    "    yesterday = datetime.date.today() - datetime.timedelta(days=50)\n",
    "    loop = asyncio.new_event_loop()\n",
    "    asyncio.set_event_loop(loop)\n",
    "    client = TelegramClient(\"test\", api_id, api_hash, loop=loop)\n",
    "\n",
    "    async def get_messages():\n",
    "        update_df = pd.DataFrame()\n",
    "        save_df = pd.DataFrame()\n",
    "        for chat in chats:\n",
    "            async for message in client.iter_messages(\n",
    "                chat, offset_date=yesterday, reverse=True\n",
    "            ):\n",
    "                data = {\n",
    "                    \"group\": chat,\n",
    "                    \"sender\": int(message.sender_id),\n",
    "                    \"text\": message.text,\n",
    "                    \"date\": message.date,\n",
    "                }\n",
    "                update_df = pd.DataFrame(data, index=[1])\n",
    "                save_df = pd.concat([save_df, update_df])\n",
    "        save_df[\"sender\"] = save_df[\"sender\"].astype(\"int32\")\n",
    "        print(save_df)\n",
    "        return save_df\n",
    "\n",
    "    # Create a single client instance\n",
    "    with client:\n",
    "        save_df = client.loop.run_until_complete(get_messages())\n",
    "\n",
    "    print(\"💽 Telegramm update finished 💽\")\n",
    "    return save_df\n",
    "\n",
    "\n",
    "if __name__ == \"__main__\":\n",
    "    get_update()\n"
   ]
  }
 ],
 "metadata": {
  "kernelspec": {
   "display_name": "bvg-controller",
   "language": "python",
   "name": "python3"
  },
  "language_info": {
   "codemirror_mode": {
    "name": "ipython",
    "version": 3
   },
   "file_extension": ".py",
   "mimetype": "text/x-python",
   "name": "python",
   "nbconvert_exporter": "python",
   "pygments_lexer": "ipython3",
   "version": "3.10.6"
  },
  "orig_nbformat": 4
 },
 "nbformat": 4,
 "nbformat_minor": 2
}
