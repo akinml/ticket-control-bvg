{
 "cells": [
  {
   "cell_type": "code",
   "execution_count": 6,
   "metadata": {},
   "outputs": [
    {
     "name": "stderr",
     "output_type": "stream",
     "text": [
      "/tmp/ipykernel_273411/2387272504.py:3: FutureWarning: The argument 'infer_datetime_format' is deprecated and will be removed in a future version. A strict version of it is now the default, see https://pandas.pydata.org/pdeps/0004-consistent-to-datetime-parsing.html. You can safely remove this argument.\n",
      "  df = pd.read_csv('data/database_telegram.csv',parse_dates=True,infer_datetime_format=True)\n"
     ]
    }
   ],
   "source": [
    "import pandas as pd\n",
    "\n",
    "df = pd.read_csv('data/database_telegram.csv',parse_dates=True,infer_datetime_format=True)"
   ]
  },
  {
   "cell_type": "code",
   "execution_count": 32,
   "metadata": {},
   "outputs": [
    {
     "data": {
      "text/plain": [
       "0        2018-02-15 11:01:00\n",
       "1        2018-02-15 11:14:00\n",
       "2        2018-02-15 11:17:00\n",
       "3        2018-02-15 11:18:00\n",
       "4        2018-02-15 11:21:00\n",
       "                 ...        \n",
       "251583   2023-08-30 12:14:00\n",
       "251584   2023-08-30 12:15:00\n",
       "251585   2023-08-30 12:18:00\n",
       "251586   2023-08-30 12:18:00\n",
       "251587   2023-08-30 12:21:00\n",
       "Name: date, Length: 251588, dtype: datetime64[ns]"
      ]
     },
     "execution_count": 32,
     "metadata": {},
     "output_type": "execute_result"
    }
   ],
   "source": [
    "df['date'] = df['date'].str.strip('+00:00').str[0:16]\n",
    "desired_format = \"%Y-%m-%d %H:%M\"\n",
    "pd.to_datetime(df[\"date\"],errors='coerce')"
   ]
  },
  {
   "cell_type": "code",
   "execution_count": null,
   "metadata": {},
   "outputs": [],
   "source": []
  }
 ],
 "metadata": {
  "kernelspec": {
   "display_name": "bvg-controller",
   "language": "python",
   "name": "python3"
  },
  "language_info": {
   "codemirror_mode": {
    "name": "ipython",
    "version": 3
   },
   "file_extension": ".py",
   "mimetype": "text/x-python",
   "name": "python",
   "nbconvert_exporter": "python",
   "pygments_lexer": "ipython3",
   "version": "3.10.6"
  },
  "orig_nbformat": 4
 },
 "nbformat": 4,
 "nbformat_minor": 2
}
